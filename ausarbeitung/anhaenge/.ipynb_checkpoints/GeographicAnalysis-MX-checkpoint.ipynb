{
 "cells": [
  {
   "cell_type": "markdown",
   "metadata": {},
   "source": [
    "# Zusammenhang zwischen dem jährlichen Transportvolumen eines Staates und seiner Nähe zu Mexiko\n",
    "//Henriette Sand, 564285\n",
    "\n",
    "##### Nullhypothese: \n",
    "Die Höhe des jährlichen Transportwertes einzelner US-Staaten hängt nicht von der Nähe zu Mexiko ab.\n",
    "\n",
    "##### Alternativhypothese\n",
    "Die Höhe des jährlichen Transportwertes einzelner US-Staaten hängt von der Nähe zu Mexiko ab.\n",
    "\n",
    "##### H0: µdis  != µval\n",
    "##### H1: µdis = µval"
   ]
  },
  {
   "cell_type": "code",
   "execution_count": 1,
   "metadata": {},
   "outputs": [],
   "source": [
    "# Daten laden\n",
    "df <- read.csv(\"trade_values_by_state_and_year_MX.csv\", header=TRUE, row.names=\"state\")"
   ]
  },
  {
   "cell_type": "markdown",
   "metadata": {},
   "source": [
    "## 1. Arithmetische Mittel berechnen"
   ]
  },
  {
   "cell_type": "code",
   "execution_count": 2,
   "metadata": {},
   "outputs": [
    {
     "data": {
      "text/html": [
       "<dl class=dl-horizontal>\n",
       "\t<dt>AL</dt>\n",
       "\t\t<dd>5721173588</dd>\n",
       "\t<dt>AK</dt>\n",
       "\t\t<dd>42247142.8333333</dd>\n",
       "\t<dt>AS</dt>\n",
       "\t\t<dd>0</dd>\n",
       "\t<dt>AZ</dt>\n",
       "\t\t<dd>15794461320.6667</dd>\n",
       "\t<dt>AR</dt>\n",
       "\t\t<dd>1471733659.33333</dd>\n",
       "\t<dt>CA</dt>\n",
       "\t\t<dd>69708363627</dd>\n",
       "\t<dt>CO</dt>\n",
       "\t\t<dd>2697726584.16667</dd>\n",
       "\t<dt>CT</dt>\n",
       "\t\t<dd>3403186559.5</dd>\n",
       "\t<dt>DE</dt>\n",
       "\t\t<dd>485017541.833333</dd>\n",
       "\t<dt>DC</dt>\n",
       "\t\t<dd>20850215.8333333</dd>\n",
       "\t<dt>FL</dt>\n",
       "\t\t<dd>8555569203.5</dd>\n",
       "\t<dt>GA</dt>\n",
       "\t\t<dd>9665826505</dd>\n",
       "\t<dt>HI</dt>\n",
       "\t\t<dd>30358101</dd>\n",
       "\t<dt>ID</dt>\n",
       "\t\t<dd>394118763.166667</dd>\n",
       "\t<dt>IL</dt>\n",
       "\t\t<dd>21506583335.1667</dd>\n",
       "\t<dt>IN</dt>\n",
       "\t\t<dd>9560820263</dd>\n",
       "\t<dt>IA</dt>\n",
       "\t\t<dd>3729743946.5</dd>\n",
       "\t<dt>KS</dt>\n",
       "\t\t<dd>2680062937.66667</dd>\n",
       "\t<dt>KY</dt>\n",
       "\t\t<dd>7861774335.83333</dd>\n",
       "\t<dt>LA</dt>\n",
       "\t\t<dd>9249075323.16667</dd>\n",
       "\t<dt>ME</dt>\n",
       "\t\t<dd>118621533.5</dd>\n",
       "\t<dt>MD</dt>\n",
       "\t\t<dd>2754417471.16667</dd>\n",
       "\t<dt>MA</dt>\n",
       "\t\t<dd>5982006696.5</dd>\n",
       "\t<dt>MI</dt>\n",
       "\t\t<dd>59313045430.3333</dd>\n",
       "\t<dt>MN</dt>\n",
       "\t\t<dd>4272729530.33333</dd>\n",
       "\t<dt>MS</dt>\n",
       "\t\t<dd>3443538751.16667</dd>\n",
       "\t<dt>MO</dt>\n",
       "\t\t<dd>5553435776.83333</dd>\n",
       "\t<dt>MT</dt>\n",
       "\t\t<dd>150312548</dd>\n",
       "\t<dt>NE</dt>\n",
       "\t\t<dd>1679977745.33333</dd>\n",
       "\t<dt>NV</dt>\n",
       "\t\t<dd>985788365.166667</dd>\n",
       "\t<dt>NH</dt>\n",
       "\t\t<dd>930974484.333333</dd>\n",
       "\t<dt>NJ</dt>\n",
       "\t\t<dd>7125181454.66667</dd>\n",
       "\t<dt>NM</dt>\n",
       "\t\t<dd>2026142252</dd>\n",
       "\t<dt>NY</dt>\n",
       "\t\t<dd>6464945828.5</dd>\n",
       "\t<dt>NC</dt>\n",
       "\t\t<dd>8371627622</dd>\n",
       "\t<dt>ND</dt>\n",
       "\t\t<dd>407568807.166667</dd>\n",
       "\t<dt>OH</dt>\n",
       "\t\t<dd>14391140646</dd>\n",
       "\t<dt>OK</dt>\n",
       "\t\t<dd>1529256598</dd>\n",
       "\t<dt>OR</dt>\n",
       "\t\t<dd>1112973591.5</dd>\n",
       "\t<dt>PA</dt>\n",
       "\t\t<dd>8309656063.66667</dd>\n",
       "\t<dt>RI</dt>\n",
       "\t\t<dd>1715641800.66667</dd>\n",
       "\t<dt>SC</dt>\n",
       "\t\t<dd>5686694721</dd>\n",
       "\t<dt>SD</dt>\n",
       "\t\t<dd>424286387.5</dd>\n",
       "\t<dt>TN</dt>\n",
       "\t\t<dd>11712262480.1667</dd>\n",
       "\t<dt>TX</dt>\n",
       "\t\t<dd>190654600094.5</dd>\n",
       "\t<dt>UT</dt>\n",
       "\t\t<dd>4074473800.66667</dd>\n",
       "\t<dt>VT</dt>\n",
       "\t\t<dd>191280696.333333</dd>\n",
       "\t<dt>VA</dt>\n",
       "\t\t<dd>2074547071.83333</dd>\n",
       "\t<dt>WA</dt>\n",
       "\t\t<dd>3487252102.83333</dd>\n",
       "\t<dt>WV</dt>\n",
       "\t\t<dd>423973928</dd>\n",
       "\t<dt>WI</dt>\n",
       "\t\t<dd>5712187345.66667</dd>\n",
       "\t<dt>WY</dt>\n",
       "\t\t<dd>78888216.3333333</dd>\n",
       "</dl>\n"
      ],
      "text/latex": [
       "\\begin{description*}\n",
       "\\item[AL] 5721173588\n",
       "\\item[AK] 42247142.8333333\n",
       "\\item[AS] 0\n",
       "\\item[AZ] 15794461320.6667\n",
       "\\item[AR] 1471733659.33333\n",
       "\\item[CA] 69708363627\n",
       "\\item[CO] 2697726584.16667\n",
       "\\item[CT] 3403186559.5\n",
       "\\item[DE] 485017541.833333\n",
       "\\item[DC] 20850215.8333333\n",
       "\\item[FL] 8555569203.5\n",
       "\\item[GA] 9665826505\n",
       "\\item[HI] 30358101\n",
       "\\item[ID] 394118763.166667\n",
       "\\item[IL] 21506583335.1667\n",
       "\\item[IN] 9560820263\n",
       "\\item[IA] 3729743946.5\n",
       "\\item[KS] 2680062937.66667\n",
       "\\item[KY] 7861774335.83333\n",
       "\\item[LA] 9249075323.16667\n",
       "\\item[ME] 118621533.5\n",
       "\\item[MD] 2754417471.16667\n",
       "\\item[MA] 5982006696.5\n",
       "\\item[MI] 59313045430.3333\n",
       "\\item[MN] 4272729530.33333\n",
       "\\item[MS] 3443538751.16667\n",
       "\\item[MO] 5553435776.83333\n",
       "\\item[MT] 150312548\n",
       "\\item[NE] 1679977745.33333\n",
       "\\item[NV] 985788365.166667\n",
       "\\item[NH] 930974484.333333\n",
       "\\item[NJ] 7125181454.66667\n",
       "\\item[NM] 2026142252\n",
       "\\item[NY] 6464945828.5\n",
       "\\item[NC] 8371627622\n",
       "\\item[ND] 407568807.166667\n",
       "\\item[OH] 14391140646\n",
       "\\item[OK] 1529256598\n",
       "\\item[OR] 1112973591.5\n",
       "\\item[PA] 8309656063.66667\n",
       "\\item[RI] 1715641800.66667\n",
       "\\item[SC] 5686694721\n",
       "\\item[SD] 424286387.5\n",
       "\\item[TN] 11712262480.1667\n",
       "\\item[TX] 190654600094.5\n",
       "\\item[UT] 4074473800.66667\n",
       "\\item[VT] 191280696.333333\n",
       "\\item[VA] 2074547071.83333\n",
       "\\item[WA] 3487252102.83333\n",
       "\\item[WV] 423973928\n",
       "\\item[WI] 5712187345.66667\n",
       "\\item[WY] 78888216.3333333\n",
       "\\end{description*}\n"
      ],
      "text/markdown": [
       "AL\n",
       ":   5721173588AK\n",
       ":   42247142.8333333AS\n",
       ":   0AZ\n",
       ":   15794461320.6667AR\n",
       ":   1471733659.33333CA\n",
       ":   69708363627CO\n",
       ":   2697726584.16667CT\n",
       ":   3403186559.5DE\n",
       ":   485017541.833333DC\n",
       ":   20850215.8333333FL\n",
       ":   8555569203.5GA\n",
       ":   9665826505HI\n",
       ":   30358101ID\n",
       ":   394118763.166667IL\n",
       ":   21506583335.1667IN\n",
       ":   9560820263IA\n",
       ":   3729743946.5KS\n",
       ":   2680062937.66667KY\n",
       ":   7861774335.83333LA\n",
       ":   9249075323.16667ME\n",
       ":   118621533.5MD\n",
       ":   2754417471.16667MA\n",
       ":   5982006696.5MI\n",
       ":   59313045430.3333MN\n",
       ":   4272729530.33333MS\n",
       ":   3443538751.16667MO\n",
       ":   5553435776.83333MT\n",
       ":   150312548NE\n",
       ":   1679977745.33333NV\n",
       ":   985788365.166667NH\n",
       ":   930974484.333333NJ\n",
       ":   7125181454.66667NM\n",
       ":   2026142252NY\n",
       ":   6464945828.5NC\n",
       ":   8371627622ND\n",
       ":   407568807.166667OH\n",
       ":   14391140646OK\n",
       ":   1529256598OR\n",
       ":   1112973591.5PA\n",
       ":   8309656063.66667RI\n",
       ":   1715641800.66667SC\n",
       ":   5686694721SD\n",
       ":   424286387.5TN\n",
       ":   11712262480.1667TX\n",
       ":   190654600094.5UT\n",
       ":   4074473800.66667VT\n",
       ":   191280696.333333VA\n",
       ":   2074547071.83333WA\n",
       ":   3487252102.83333WV\n",
       ":   423973928WI\n",
       ":   5712187345.66667WY\n",
       ":   78888216.3333333\n",
       "\n"
      ],
      "text/plain": [
       "          AL           AK           AS           AZ           AR           CA \n",
       "  5721173588     42247143            0  15794461321   1471733659  69708363627 \n",
       "          CO           CT           DE           DC           FL           GA \n",
       "  2697726584   3403186560    485017542     20850216   8555569204   9665826505 \n",
       "          HI           ID           IL           IN           IA           KS \n",
       "    30358101    394118763  21506583335   9560820263   3729743947   2680062938 \n",
       "          KY           LA           ME           MD           MA           MI \n",
       "  7861774336   9249075323    118621534   2754417471   5982006697  59313045430 \n",
       "          MN           MS           MO           MT           NE           NV \n",
       "  4272729530   3443538751   5553435777    150312548   1679977745    985788365 \n",
       "          NH           NJ           NM           NY           NC           ND \n",
       "   930974484   7125181455   2026142252   6464945829   8371627622    407568807 \n",
       "          OH           OK           OR           PA           RI           SC \n",
       " 14391140646   1529256598   1112973592   8309656064   1715641801   5686694721 \n",
       "          SD           TN           TX           UT           VT           VA \n",
       "   424286388  11712262480 190654600095   4074473801    191280696   2074547072 \n",
       "          WA           WV           WI           WY \n",
       "  3487252103    423973928   5712187346     78888216 "
      ]
     },
     "metadata": {},
     "output_type": "display_data"
    }
   ],
   "source": [
    "# Werte für Test: Arithmetisches Mittel des jährlichen Transportwertes über den Beobachtungszeitraum 2013-2018\n",
    "avg_value <- apply(df, 1, mean)\n",
    "avg_value"
   ]
  },
  {
   "cell_type": "markdown",
   "metadata": {},
   "source": [
    "## 2. Nach Entfernung zur mexikanischen Grenze gruppieren\n",
    "\n",
    "1: keine/geringe Entfernung zu Mexiko\n",
    "\n",
    "2: mittlere Entfernung zu Mexiko\n",
    "\n",
    "3: große Entfernung zu Mexiko"
   ]
  },
  {
   "cell_type": "code",
   "execution_count": 30,
   "metadata": {},
   "outputs": [],
   "source": [
    "# manuell erhobene Gruppierung nach Staat in alphabetischer Reihenfolge\n",
    "distance <- c(2, 3, 3, 1, 2, 1, 2, 3, 3, 3, 2, 2, 3, 3, 3, 3, 3, 2, 2, 1, 3, 3, 3, 3, 3, 2, 2, 3, 2, 2, 3, 3, 1, 3, 3, 3, 3, 2, 3, 3, 3, 3, 3, 2, 1, 2, 3, 3, 3, 3, 3, 3)\n",
    "avg_value <- cbind(avg_value, distance)"
   ]
  },
  {
   "cell_type": "markdown",
   "metadata": {},
   "source": [
    "## 3. Nach Mittelwert des Transportwertes gruppieren"
   ]
  },
  {
   "cell_type": "markdown",
   "metadata": {},
   "source": [
    "1: hoher jährlicher Transportwert in US-Dollar\n",
    "\n",
    "2: mittlerer jährlicher Transportwertin US-Dollar\n",
    "\n",
    "3: niedriger jährlicher Transportwert in US-Dollar"
   ]
  },
  {
   "cell_type": "code",
   "execution_count": 4,
   "metadata": {},
   "outputs": [],
   "source": [
    "average <- avg_value[,1]"
   ]
  },
  {
   "cell_type": "code",
   "execution_count": 5,
   "metadata": {},
   "outputs": [
    {
     "data": {
      "text/html": [
       "3423362655.33333"
      ],
      "text/latex": [
       "3423362655.33333"
      ],
      "text/markdown": [
       "3423362655.33333"
      ],
      "text/plain": [
       "[1] 3423362655"
      ]
     },
     "metadata": {},
     "output_type": "display_data"
    }
   ],
   "source": [
    "median(average)"
   ]
  },
  {
   "cell_type": "code",
   "execution_count": 6,
   "metadata": {},
   "outputs": [
    {
     "data": {
      "text/html": [
       "<ol class=list-inline>\n",
       "\t<li>0</li>\n",
       "\t<li>190654600094.5</li>\n",
       "</ol>\n"
      ],
      "text/latex": [
       "\\begin{enumerate*}\n",
       "\\item 0\n",
       "\\item 190654600094.5\n",
       "\\end{enumerate*}\n"
      ],
      "text/markdown": [
       "1. 0\n",
       "2. 190654600094.5\n",
       "\n",
       "\n"
      ],
      "text/plain": [
       "[1]            0 190654600095"
      ]
     },
     "metadata": {},
     "output_type": "display_data"
    }
   ],
   "source": [
    "range(average)"
   ]
  },
  {
   "cell_type": "code",
   "execution_count": 7,
   "metadata": {},
   "outputs": [
    {
     "data": {
      "text/html": [
       "<dl class=dl-horizontal>\n",
       "\t<dt>0%</dt>\n",
       "\t\t<dd>0</dd>\n",
       "\t<dt>25%</dt>\n",
       "\t\t<dd>819485248.708333</dd>\n",
       "\t<dt>50%</dt>\n",
       "\t\t<dd>3423362655.33333</dd>\n",
       "\t<dt>75%</dt>\n",
       "\t\t<dd>7973744767.79167</dd>\n",
       "\t<dt>100%</dt>\n",
       "\t\t<dd>190654600094.5</dd>\n",
       "</dl>\n"
      ],
      "text/latex": [
       "\\begin{description*}\n",
       "\\item[0\\textbackslash{}\\%] 0\n",
       "\\item[25\\textbackslash{}\\%] 819485248.708333\n",
       "\\item[50\\textbackslash{}\\%] 3423362655.33333\n",
       "\\item[75\\textbackslash{}\\%] 7973744767.79167\n",
       "\\item[100\\textbackslash{}\\%] 190654600094.5\n",
       "\\end{description*}\n"
      ],
      "text/markdown": [
       "0%\n",
       ":   025%\n",
       ":   819485248.70833350%\n",
       ":   3423362655.3333375%\n",
       ":   7973744767.79167100%\n",
       ":   190654600094.5\n",
       "\n"
      ],
      "text/plain": [
       "          0%          25%          50%          75%         100% \n",
       "           0    819485249   3423362655   7973744768 190654600095 "
      ]
     },
     "metadata": {},
     "output_type": "display_data"
    }
   ],
   "source": [
    "quantile(average)"
   ]
  },
  {
   "cell_type": "code",
   "execution_count": 8,
   "metadata": {},
   "outputs": [
    {
     "data": {
      "text/html": [
       "<dl class=dl-horizontal>\n",
       "\t<dt>AS</dt>\n",
       "\t\t<dd>0</dd>\n",
       "\t<dt>DC</dt>\n",
       "\t\t<dd>20850215.8333333</dd>\n",
       "\t<dt>HI</dt>\n",
       "\t\t<dd>30358101</dd>\n",
       "\t<dt>AK</dt>\n",
       "\t\t<dd>42247142.8333333</dd>\n",
       "\t<dt>WY</dt>\n",
       "\t\t<dd>78888216.3333333</dd>\n",
       "\t<dt>ME</dt>\n",
       "\t\t<dd>118621533.5</dd>\n",
       "\t<dt>MT</dt>\n",
       "\t\t<dd>150312548</dd>\n",
       "\t<dt>VT</dt>\n",
       "\t\t<dd>191280696.333333</dd>\n",
       "\t<dt>ID</dt>\n",
       "\t\t<dd>394118763.166667</dd>\n",
       "\t<dt>ND</dt>\n",
       "\t\t<dd>407568807.166667</dd>\n",
       "\t<dt>WV</dt>\n",
       "\t\t<dd>423973928</dd>\n",
       "\t<dt>SD</dt>\n",
       "\t\t<dd>424286387.5</dd>\n",
       "\t<dt>DE</dt>\n",
       "\t\t<dd>485017541.833333</dd>\n",
       "\t<dt>NH</dt>\n",
       "\t\t<dd>930974484.333333</dd>\n",
       "\t<dt>NV</dt>\n",
       "\t\t<dd>985788365.166667</dd>\n",
       "\t<dt>OR</dt>\n",
       "\t\t<dd>1112973591.5</dd>\n",
       "\t<dt>AR</dt>\n",
       "\t\t<dd>1471733659.33333</dd>\n",
       "\t<dt>OK</dt>\n",
       "\t\t<dd>1529256598</dd>\n",
       "\t<dt>NE</dt>\n",
       "\t\t<dd>1679977745.33333</dd>\n",
       "\t<dt>RI</dt>\n",
       "\t\t<dd>1715641800.66667</dd>\n",
       "\t<dt>NM</dt>\n",
       "\t\t<dd>2026142252</dd>\n",
       "\t<dt>VA</dt>\n",
       "\t\t<dd>2074547071.83333</dd>\n",
       "\t<dt>KS</dt>\n",
       "\t\t<dd>2680062937.66667</dd>\n",
       "\t<dt>CO</dt>\n",
       "\t\t<dd>2697726584.16667</dd>\n",
       "\t<dt>MD</dt>\n",
       "\t\t<dd>2754417471.16667</dd>\n",
       "\t<dt>CT</dt>\n",
       "\t\t<dd>3403186559.5</dd>\n",
       "\t<dt>MS</dt>\n",
       "\t\t<dd>3443538751.16667</dd>\n",
       "\t<dt>WA</dt>\n",
       "\t\t<dd>3487252102.83333</dd>\n",
       "\t<dt>IA</dt>\n",
       "\t\t<dd>3729743946.5</dd>\n",
       "\t<dt>UT</dt>\n",
       "\t\t<dd>4074473800.66667</dd>\n",
       "\t<dt>MN</dt>\n",
       "\t\t<dd>4272729530.33333</dd>\n",
       "\t<dt>MO</dt>\n",
       "\t\t<dd>5553435776.83333</dd>\n",
       "\t<dt>SC</dt>\n",
       "\t\t<dd>5686694721</dd>\n",
       "\t<dt>WI</dt>\n",
       "\t\t<dd>5712187345.66667</dd>\n",
       "\t<dt>AL</dt>\n",
       "\t\t<dd>5721173588</dd>\n",
       "\t<dt>MA</dt>\n",
       "\t\t<dd>5982006696.5</dd>\n",
       "\t<dt>NY</dt>\n",
       "\t\t<dd>6464945828.5</dd>\n",
       "\t<dt>NJ</dt>\n",
       "\t\t<dd>7125181454.66667</dd>\n",
       "\t<dt>KY</dt>\n",
       "\t\t<dd>7861774335.83333</dd>\n",
       "\t<dt>PA</dt>\n",
       "\t\t<dd>8309656063.66667</dd>\n",
       "\t<dt>NC</dt>\n",
       "\t\t<dd>8371627622</dd>\n",
       "\t<dt>FL</dt>\n",
       "\t\t<dd>8555569203.5</dd>\n",
       "\t<dt>LA</dt>\n",
       "\t\t<dd>9249075323.16667</dd>\n",
       "\t<dt>IN</dt>\n",
       "\t\t<dd>9560820263</dd>\n",
       "\t<dt>GA</dt>\n",
       "\t\t<dd>9665826505</dd>\n",
       "\t<dt>TN</dt>\n",
       "\t\t<dd>11712262480.1667</dd>\n",
       "\t<dt>OH</dt>\n",
       "\t\t<dd>14391140646</dd>\n",
       "\t<dt>AZ</dt>\n",
       "\t\t<dd>15794461320.6667</dd>\n",
       "\t<dt>IL</dt>\n",
       "\t\t<dd>21506583335.1667</dd>\n",
       "\t<dt>MI</dt>\n",
       "\t\t<dd>59313045430.3333</dd>\n",
       "\t<dt>CA</dt>\n",
       "\t\t<dd>69708363627</dd>\n",
       "\t<dt>TX</dt>\n",
       "\t\t<dd>190654600094.5</dd>\n",
       "</dl>\n"
      ],
      "text/latex": [
       "\\begin{description*}\n",
       "\\item[AS] 0\n",
       "\\item[DC] 20850215.8333333\n",
       "\\item[HI] 30358101\n",
       "\\item[AK] 42247142.8333333\n",
       "\\item[WY] 78888216.3333333\n",
       "\\item[ME] 118621533.5\n",
       "\\item[MT] 150312548\n",
       "\\item[VT] 191280696.333333\n",
       "\\item[ID] 394118763.166667\n",
       "\\item[ND] 407568807.166667\n",
       "\\item[WV] 423973928\n",
       "\\item[SD] 424286387.5\n",
       "\\item[DE] 485017541.833333\n",
       "\\item[NH] 930974484.333333\n",
       "\\item[NV] 985788365.166667\n",
       "\\item[OR] 1112973591.5\n",
       "\\item[AR] 1471733659.33333\n",
       "\\item[OK] 1529256598\n",
       "\\item[NE] 1679977745.33333\n",
       "\\item[RI] 1715641800.66667\n",
       "\\item[NM] 2026142252\n",
       "\\item[VA] 2074547071.83333\n",
       "\\item[KS] 2680062937.66667\n",
       "\\item[CO] 2697726584.16667\n",
       "\\item[MD] 2754417471.16667\n",
       "\\item[CT] 3403186559.5\n",
       "\\item[MS] 3443538751.16667\n",
       "\\item[WA] 3487252102.83333\n",
       "\\item[IA] 3729743946.5\n",
       "\\item[UT] 4074473800.66667\n",
       "\\item[MN] 4272729530.33333\n",
       "\\item[MO] 5553435776.83333\n",
       "\\item[SC] 5686694721\n",
       "\\item[WI] 5712187345.66667\n",
       "\\item[AL] 5721173588\n",
       "\\item[MA] 5982006696.5\n",
       "\\item[NY] 6464945828.5\n",
       "\\item[NJ] 7125181454.66667\n",
       "\\item[KY] 7861774335.83333\n",
       "\\item[PA] 8309656063.66667\n",
       "\\item[NC] 8371627622\n",
       "\\item[FL] 8555569203.5\n",
       "\\item[LA] 9249075323.16667\n",
       "\\item[IN] 9560820263\n",
       "\\item[GA] 9665826505\n",
       "\\item[TN] 11712262480.1667\n",
       "\\item[OH] 14391140646\n",
       "\\item[AZ] 15794461320.6667\n",
       "\\item[IL] 21506583335.1667\n",
       "\\item[MI] 59313045430.3333\n",
       "\\item[CA] 69708363627\n",
       "\\item[TX] 190654600094.5\n",
       "\\end{description*}\n"
      ],
      "text/markdown": [
       "AS\n",
       ":   0DC\n",
       ":   20850215.8333333HI\n",
       ":   30358101AK\n",
       ":   42247142.8333333WY\n",
       ":   78888216.3333333ME\n",
       ":   118621533.5MT\n",
       ":   150312548VT\n",
       ":   191280696.333333ID\n",
       ":   394118763.166667ND\n",
       ":   407568807.166667WV\n",
       ":   423973928SD\n",
       ":   424286387.5DE\n",
       ":   485017541.833333NH\n",
       ":   930974484.333333NV\n",
       ":   985788365.166667OR\n",
       ":   1112973591.5AR\n",
       ":   1471733659.33333OK\n",
       ":   1529256598NE\n",
       ":   1679977745.33333RI\n",
       ":   1715641800.66667NM\n",
       ":   2026142252VA\n",
       ":   2074547071.83333KS\n",
       ":   2680062937.66667CO\n",
       ":   2697726584.16667MD\n",
       ":   2754417471.16667CT\n",
       ":   3403186559.5MS\n",
       ":   3443538751.16667WA\n",
       ":   3487252102.83333IA\n",
       ":   3729743946.5UT\n",
       ":   4074473800.66667MN\n",
       ":   4272729530.33333MO\n",
       ":   5553435776.83333SC\n",
       ":   5686694721WI\n",
       ":   5712187345.66667AL\n",
       ":   5721173588MA\n",
       ":   5982006696.5NY\n",
       ":   6464945828.5NJ\n",
       ":   7125181454.66667KY\n",
       ":   7861774335.83333PA\n",
       ":   8309656063.66667NC\n",
       ":   8371627622FL\n",
       ":   8555569203.5LA\n",
       ":   9249075323.16667IN\n",
       ":   9560820263GA\n",
       ":   9665826505TN\n",
       ":   11712262480.1667OH\n",
       ":   14391140646AZ\n",
       ":   15794461320.6667IL\n",
       ":   21506583335.1667MI\n",
       ":   59313045430.3333CA\n",
       ":   69708363627TX\n",
       ":   190654600094.5\n",
       "\n"
      ],
      "text/plain": [
       "          AS           DC           HI           AK           WY           ME \n",
       "           0     20850216     30358101     42247143     78888216    118621534 \n",
       "          MT           VT           ID           ND           WV           SD \n",
       "   150312548    191280696    394118763    407568807    423973928    424286388 \n",
       "          DE           NH           NV           OR           AR           OK \n",
       "   485017542    930974484    985788365   1112973592   1471733659   1529256598 \n",
       "          NE           RI           NM           VA           KS           CO \n",
       "  1679977745   1715641801   2026142252   2074547072   2680062938   2697726584 \n",
       "          MD           CT           MS           WA           IA           UT \n",
       "  2754417471   3403186560   3443538751   3487252103   3729743947   4074473801 \n",
       "          MN           MO           SC           WI           AL           MA \n",
       "  4272729530   5553435777   5686694721   5712187346   5721173588   5982006697 \n",
       "          NY           NJ           KY           PA           NC           FL \n",
       "  6464945829   7125181455   7861774336   8309656064   8371627622   8555569204 \n",
       "          LA           IN           GA           TN           OH           AZ \n",
       "  9249075323   9560820263   9665826505  11712262480  14391140646  15794461321 \n",
       "          IL           MI           CA           TX \n",
       " 21506583335  59313045430  69708363627 190654600095 "
      ]
     },
     "metadata": {},
     "output_type": "display_data"
    }
   ],
   "source": [
    "sort(avg_value[,1])"
   ]
  },
  {
   "cell_type": "code",
   "execution_count": 9,
   "metadata": {},
   "outputs": [
    {
     "data": {
      "text/html": [
       "<table>\n",
       "<thead><tr><th></th><th scope=col>avg_value</th><th scope=col>distance</th><th scope=col>value</th></tr></thead>\n",
       "<tbody>\n",
       "\t<tr><th scope=row>AL</th><td>  5721173588</td><td>2           </td><td>2           </td></tr>\n",
       "\t<tr><th scope=row>AK</th><td>    42247143</td><td>3           </td><td>3           </td></tr>\n",
       "\t<tr><th scope=row>AS</th><td>           0</td><td>3           </td><td>3           </td></tr>\n",
       "\t<tr><th scope=row>AZ</th><td> 15794461321</td><td>1           </td><td>1           </td></tr>\n",
       "\t<tr><th scope=row>AR</th><td>  1471733659</td><td>2           </td><td>3           </td></tr>\n",
       "\t<tr><th scope=row>CA</th><td> 69708363627</td><td>1           </td><td>1           </td></tr>\n",
       "\t<tr><th scope=row>CO</th><td>  2697726584</td><td>2           </td><td>3           </td></tr>\n",
       "\t<tr><th scope=row>CT</th><td>  3403186560</td><td>3           </td><td>3           </td></tr>\n",
       "\t<tr><th scope=row>DE</th><td>   485017542</td><td>3           </td><td>3           </td></tr>\n",
       "\t<tr><th scope=row>DC</th><td>    20850216</td><td>3           </td><td>3           </td></tr>\n",
       "\t<tr><th scope=row>FL</th><td>  8555569204</td><td>2           </td><td>2           </td></tr>\n",
       "\t<tr><th scope=row>GA</th><td>  9665826505</td><td>2           </td><td>2           </td></tr>\n",
       "\t<tr><th scope=row>HI</th><td>    30358101</td><td>3           </td><td>3           </td></tr>\n",
       "\t<tr><th scope=row>ID</th><td>   394118763</td><td>3           </td><td>3           </td></tr>\n",
       "\t<tr><th scope=row>IL</th><td> 21506583335</td><td>3           </td><td>1           </td></tr>\n",
       "\t<tr><th scope=row>IN</th><td>  9560820263</td><td>3           </td><td>2           </td></tr>\n",
       "\t<tr><th scope=row>IA</th><td>  3729743947</td><td>3           </td><td>3           </td></tr>\n",
       "\t<tr><th scope=row>KS</th><td>  2680062938</td><td>2           </td><td>3           </td></tr>\n",
       "\t<tr><th scope=row>KY</th><td>  7861774336</td><td>2           </td><td>2           </td></tr>\n",
       "\t<tr><th scope=row>LA</th><td>  9249075323</td><td>1           </td><td>2           </td></tr>\n",
       "\t<tr><th scope=row>ME</th><td>   118621534</td><td>3           </td><td>3           </td></tr>\n",
       "\t<tr><th scope=row>MD</th><td>  2754417471</td><td>3           </td><td>3           </td></tr>\n",
       "\t<tr><th scope=row>MA</th><td>  5982006697</td><td>3           </td><td>2           </td></tr>\n",
       "\t<tr><th scope=row>MI</th><td> 59313045430</td><td>3           </td><td>1           </td></tr>\n",
       "\t<tr><th scope=row>MN</th><td>  4272729530</td><td>3           </td><td>3           </td></tr>\n",
       "\t<tr><th scope=row>MS</th><td>  3443538751</td><td>2           </td><td>3           </td></tr>\n",
       "\t<tr><th scope=row>MO</th><td>  5553435777</td><td>2           </td><td>3           </td></tr>\n",
       "\t<tr><th scope=row>MT</th><td>   150312548</td><td>3           </td><td>3           </td></tr>\n",
       "\t<tr><th scope=row>NE</th><td>  1679977745</td><td>2           </td><td>3           </td></tr>\n",
       "\t<tr><th scope=row>NV</th><td>   985788365</td><td>2           </td><td>3           </td></tr>\n",
       "\t<tr><th scope=row>NH</th><td>   930974484</td><td>3           </td><td>3           </td></tr>\n",
       "\t<tr><th scope=row>NJ</th><td>  7125181455</td><td>3           </td><td>2           </td></tr>\n",
       "\t<tr><th scope=row>NM</th><td>  2026142252</td><td>1           </td><td>3           </td></tr>\n",
       "\t<tr><th scope=row>NY</th><td>  6464945829</td><td>3           </td><td>2           </td></tr>\n",
       "\t<tr><th scope=row>NC</th><td>  8371627622</td><td>3           </td><td>2           </td></tr>\n",
       "\t<tr><th scope=row>ND</th><td>   407568807</td><td>3           </td><td>3           </td></tr>\n",
       "\t<tr><th scope=row>OH</th><td> 14391140646</td><td>3           </td><td>2           </td></tr>\n",
       "\t<tr><th scope=row>OK</th><td>  1529256598</td><td>2           </td><td>3           </td></tr>\n",
       "\t<tr><th scope=row>OR</th><td>  1112973592</td><td>3           </td><td>3           </td></tr>\n",
       "\t<tr><th scope=row>PA</th><td>  8309656064</td><td>3           </td><td>2           </td></tr>\n",
       "\t<tr><th scope=row>RI</th><td>  1715641801</td><td>3           </td><td>3           </td></tr>\n",
       "\t<tr><th scope=row>SC</th><td>  5686694721</td><td>3           </td><td>3           </td></tr>\n",
       "\t<tr><th scope=row>SD</th><td>   424286388</td><td>3           </td><td>3           </td></tr>\n",
       "\t<tr><th scope=row>TN</th><td> 11712262480</td><td>2           </td><td>2           </td></tr>\n",
       "\t<tr><th scope=row>TX</th><td>190654600095</td><td>1           </td><td>1           </td></tr>\n",
       "\t<tr><th scope=row>UT</th><td>  4074473801</td><td>2           </td><td>3           </td></tr>\n",
       "\t<tr><th scope=row>VT</th><td>   191280696</td><td>3           </td><td>3           </td></tr>\n",
       "\t<tr><th scope=row>VA</th><td>  2074547072</td><td>3           </td><td>3           </td></tr>\n",
       "\t<tr><th scope=row>WA</th><td>  3487252103</td><td>3           </td><td>3           </td></tr>\n",
       "\t<tr><th scope=row>WV</th><td>   423973928</td><td>3           </td><td>3           </td></tr>\n",
       "\t<tr><th scope=row>WI</th><td>  5712187346</td><td>3           </td><td>2           </td></tr>\n",
       "\t<tr><th scope=row>WY</th><td>    78888216</td><td>3           </td><td>3           </td></tr>\n",
       "</tbody>\n",
       "</table>\n"
      ],
      "text/latex": [
       "\\begin{tabular}{r|lll}\n",
       "  & avg\\_value & distance & value\\\\\n",
       "\\hline\n",
       "\tAL &   5721173588 & 2            & 2           \\\\\n",
       "\tAK &     42247143 & 3            & 3           \\\\\n",
       "\tAS &            0 & 3            & 3           \\\\\n",
       "\tAZ &  15794461321 & 1            & 1           \\\\\n",
       "\tAR &   1471733659 & 2            & 3           \\\\\n",
       "\tCA &  69708363627 & 1            & 1           \\\\\n",
       "\tCO &   2697726584 & 2            & 3           \\\\\n",
       "\tCT &   3403186560 & 3            & 3           \\\\\n",
       "\tDE &    485017542 & 3            & 3           \\\\\n",
       "\tDC &     20850216 & 3            & 3           \\\\\n",
       "\tFL &   8555569204 & 2            & 2           \\\\\n",
       "\tGA &   9665826505 & 2            & 2           \\\\\n",
       "\tHI &     30358101 & 3            & 3           \\\\\n",
       "\tID &    394118763 & 3            & 3           \\\\\n",
       "\tIL &  21506583335 & 3            & 1           \\\\\n",
       "\tIN &   9560820263 & 3            & 2           \\\\\n",
       "\tIA &   3729743947 & 3            & 3           \\\\\n",
       "\tKS &   2680062938 & 2            & 3           \\\\\n",
       "\tKY &   7861774336 & 2            & 2           \\\\\n",
       "\tLA &   9249075323 & 1            & 2           \\\\\n",
       "\tME &    118621534 & 3            & 3           \\\\\n",
       "\tMD &   2754417471 & 3            & 3           \\\\\n",
       "\tMA &   5982006697 & 3            & 2           \\\\\n",
       "\tMI &  59313045430 & 3            & 1           \\\\\n",
       "\tMN &   4272729530 & 3            & 3           \\\\\n",
       "\tMS &   3443538751 & 2            & 3           \\\\\n",
       "\tMO &   5553435777 & 2            & 3           \\\\\n",
       "\tMT &    150312548 & 3            & 3           \\\\\n",
       "\tNE &   1679977745 & 2            & 3           \\\\\n",
       "\tNV &    985788365 & 2            & 3           \\\\\n",
       "\tNH &    930974484 & 3            & 3           \\\\\n",
       "\tNJ &   7125181455 & 3            & 2           \\\\\n",
       "\tNM &   2026142252 & 1            & 3           \\\\\n",
       "\tNY &   6464945829 & 3            & 2           \\\\\n",
       "\tNC &   8371627622 & 3            & 2           \\\\\n",
       "\tND &    407568807 & 3            & 3           \\\\\n",
       "\tOH &  14391140646 & 3            & 2           \\\\\n",
       "\tOK &   1529256598 & 2            & 3           \\\\\n",
       "\tOR &   1112973592 & 3            & 3           \\\\\n",
       "\tPA &   8309656064 & 3            & 2           \\\\\n",
       "\tRI &   1715641801 & 3            & 3           \\\\\n",
       "\tSC &   5686694721 & 3            & 3           \\\\\n",
       "\tSD &    424286388 & 3            & 3           \\\\\n",
       "\tTN &  11712262480 & 2            & 2           \\\\\n",
       "\tTX & 190654600095 & 1            & 1           \\\\\n",
       "\tUT &   4074473801 & 2            & 3           \\\\\n",
       "\tVT &    191280696 & 3            & 3           \\\\\n",
       "\tVA &   2074547072 & 3            & 3           \\\\\n",
       "\tWA &   3487252103 & 3            & 3           \\\\\n",
       "\tWV &    423973928 & 3            & 3           \\\\\n",
       "\tWI &   5712187346 & 3            & 2           \\\\\n",
       "\tWY &     78888216 & 3            & 3           \\\\\n",
       "\\end{tabular}\n"
      ],
      "text/markdown": [
       "\n",
       "| <!--/--> | avg_value | distance | value |\n",
       "|---|---|---|---|\n",
       "| AL |   5721173588 | 2            | 2            |\n",
       "| AK |     42247143 | 3            | 3            |\n",
       "| AS |            0 | 3            | 3            |\n",
       "| AZ |  15794461321 | 1            | 1            |\n",
       "| AR |   1471733659 | 2            | 3            |\n",
       "| CA |  69708363627 | 1            | 1            |\n",
       "| CO |   2697726584 | 2            | 3            |\n",
       "| CT |   3403186560 | 3            | 3            |\n",
       "| DE |    485017542 | 3            | 3            |\n",
       "| DC |     20850216 | 3            | 3            |\n",
       "| FL |   8555569204 | 2            | 2            |\n",
       "| GA |   9665826505 | 2            | 2            |\n",
       "| HI |     30358101 | 3            | 3            |\n",
       "| ID |    394118763 | 3            | 3            |\n",
       "| IL |  21506583335 | 3            | 1            |\n",
       "| IN |   9560820263 | 3            | 2            |\n",
       "| IA |   3729743947 | 3            | 3            |\n",
       "| KS |   2680062938 | 2            | 3            |\n",
       "| KY |   7861774336 | 2            | 2            |\n",
       "| LA |   9249075323 | 1            | 2            |\n",
       "| ME |    118621534 | 3            | 3            |\n",
       "| MD |   2754417471 | 3            | 3            |\n",
       "| MA |   5982006697 | 3            | 2            |\n",
       "| MI |  59313045430 | 3            | 1            |\n",
       "| MN |   4272729530 | 3            | 3            |\n",
       "| MS |   3443538751 | 2            | 3            |\n",
       "| MO |   5553435777 | 2            | 3            |\n",
       "| MT |    150312548 | 3            | 3            |\n",
       "| NE |   1679977745 | 2            | 3            |\n",
       "| NV |    985788365 | 2            | 3            |\n",
       "| NH |    930974484 | 3            | 3            |\n",
       "| NJ |   7125181455 | 3            | 2            |\n",
       "| NM |   2026142252 | 1            | 3            |\n",
       "| NY |   6464945829 | 3            | 2            |\n",
       "| NC |   8371627622 | 3            | 2            |\n",
       "| ND |    407568807 | 3            | 3            |\n",
       "| OH |  14391140646 | 3            | 2            |\n",
       "| OK |   1529256598 | 2            | 3            |\n",
       "| OR |   1112973592 | 3            | 3            |\n",
       "| PA |   8309656064 | 3            | 2            |\n",
       "| RI |   1715641801 | 3            | 3            |\n",
       "| SC |   5686694721 | 3            | 3            |\n",
       "| SD |    424286388 | 3            | 3            |\n",
       "| TN |  11712262480 | 2            | 2            |\n",
       "| TX | 190654600095 | 1            | 1            |\n",
       "| UT |   4074473801 | 2            | 3            |\n",
       "| VT |    191280696 | 3            | 3            |\n",
       "| VA |   2074547072 | 3            | 3            |\n",
       "| WA |   3487252103 | 3            | 3            |\n",
       "| WV |    423973928 | 3            | 3            |\n",
       "| WI |   5712187346 | 3            | 2            |\n",
       "| WY |     78888216 | 3            | 3            |\n",
       "\n"
      ],
      "text/plain": [
       "   avg_value    distance value\n",
       "AL   5721173588 2        2    \n",
       "AK     42247143 3        3    \n",
       "AS            0 3        3    \n",
       "AZ  15794461321 1        1    \n",
       "AR   1471733659 2        3    \n",
       "CA  69708363627 1        1    \n",
       "CO   2697726584 2        3    \n",
       "CT   3403186560 3        3    \n",
       "DE    485017542 3        3    \n",
       "DC     20850216 3        3    \n",
       "FL   8555569204 2        2    \n",
       "GA   9665826505 2        2    \n",
       "HI     30358101 3        3    \n",
       "ID    394118763 3        3    \n",
       "IL  21506583335 3        1    \n",
       "IN   9560820263 3        2    \n",
       "IA   3729743947 3        3    \n",
       "KS   2680062938 2        3    \n",
       "KY   7861774336 2        2    \n",
       "LA   9249075323 1        2    \n",
       "ME    118621534 3        3    \n",
       "MD   2754417471 3        3    \n",
       "MA   5982006697 3        2    \n",
       "MI  59313045430 3        1    \n",
       "MN   4272729530 3        3    \n",
       "MS   3443538751 2        3    \n",
       "MO   5553435777 2        3    \n",
       "MT    150312548 3        3    \n",
       "NE   1679977745 2        3    \n",
       "NV    985788365 2        3    \n",
       "NH    930974484 3        3    \n",
       "NJ   7125181455 3        2    \n",
       "NM   2026142252 1        3    \n",
       "NY   6464945829 3        2    \n",
       "NC   8371627622 3        2    \n",
       "ND    407568807 3        3    \n",
       "OH  14391140646 3        2    \n",
       "OK   1529256598 2        3    \n",
       "OR   1112973592 3        3    \n",
       "PA   8309656064 3        2    \n",
       "RI   1715641801 3        3    \n",
       "SC   5686694721 3        3    \n",
       "SD    424286388 3        3    \n",
       "TN  11712262480 2        2    \n",
       "TX 190654600095 1        1    \n",
       "UT   4074473801 2        3    \n",
       "VT    191280696 3        3    \n",
       "VA   2074547072 3        3    \n",
       "WA   3487252103 3        3    \n",
       "WV    423973928 3        3    \n",
       "WI   5712187346 3        2    \n",
       "WY     78888216 3        3    "
      ]
     },
     "metadata": {},
     "output_type": "display_data"
    }
   ],
   "source": [
    "# Gruppierung nach Staat in alphabetischer Reihenfolge\n",
    "value <- c(2, 3, 3, 1, 3, 1, 3, 3, 3, 3, 2, 2, 3, 3, 1, 2, 3, 3, 2, 2, 3, 3, 2, 1, 3, 3, 3, 3, 3, 3, 3, 2, 3, 2, 2, 3, 2, 3, 3, 2, 3, 3, 3, 2, 1, 3, 3, 3, 3, 3, 2, 3)\n",
    "avg_value <- cbind(avg_value, value)\n",
    "avg_value"
   ]
  },
  {
   "cell_type": "markdown",
   "metadata": {},
   "source": [
    "## Test 1: kleine Distanz zu Mexiko und hoher Transportwert"
   ]
  },
  {
   "cell_type": "code",
   "execution_count": 32,
   "metadata": {},
   "outputs": [
    {
     "data": {
      "text/html": [
       "5"
      ],
      "text/latex": [
       "5"
      ],
      "text/markdown": [
       "5"
      ],
      "text/plain": [
       "[1] 5"
      ]
     },
     "metadata": {},
     "output_type": "display_data"
    },
    {
     "data": {
      "text/html": [
       "5"
      ],
      "text/latex": [
       "5"
      ],
      "text/markdown": [
       "5"
      ],
      "text/plain": [
       "[1] 5"
      ]
     },
     "metadata": {},
     "output_type": "display_data"
    }
   ],
   "source": [
    "dis1 <- subset(avg_value, distance == 1)\n",
    "val1 <- subset(avg_value, value == 1)\n",
    "# Kontrolle: Vergleich der Größen der Stichproben\n",
    "nrow(dis1)\n",
    "nrow(val1)"
   ]
  },
  {
   "cell_type": "code",
   "execution_count": 25,
   "metadata": {},
   "outputs": [
    {
     "data": {
      "text/html": [
       "57486528523.4667"
      ],
      "text/latex": [
       "57486528523.4667"
      ],
      "text/markdown": [
       "57486528523.4667"
      ],
      "text/plain": [
       "[1] 57486528523"
      ]
     },
     "metadata": {},
     "output_type": "display_data"
    },
    {
     "data": {
      "text/html": [
       "71395410761.5333"
      ],
      "text/latex": [
       "71395410761.5333"
      ],
      "text/markdown": [
       "71395410761.5333"
      ],
      "text/plain": [
       "[1] 71395410762"
      ]
     },
     "metadata": {},
     "output_type": "display_data"
    }
   ],
   "source": [
    "# Kontrolle: arithmetische Mittel der Stichproben\n",
    "mean(dis1[,1])\n",
    "mean(val1[,1])"
   ]
  },
  {
   "cell_type": "code",
   "execution_count": 48,
   "metadata": {},
   "outputs": [
    {
     "data": {
      "text/plain": [
       "\n",
       "\tTwo Sample t-test\n",
       "\n",
       "data:  dis1[, 1] and val1[, 1]\n",
       "t = -0.2933, df = 8, p-value = 0.7768\n",
       "alternative hypothesis: true difference in means is not equal to 0\n",
       "95 percent confidence interval:\n",
       " -123263075206   95445310730\n",
       "sample estimates:\n",
       "  mean of x   mean of y \n",
       "57486528523 71395410762 \n"
      ]
     },
     "metadata": {},
     "output_type": "display_data"
    }
   ],
   "source": [
    "# |T| ermitteln\n",
    "t.test(dis1[,1], val1[,1], var.equal = TRUE)"
   ]
  },
  {
   "cell_type": "code",
   "execution_count": 43,
   "metadata": {},
   "outputs": [
    {
     "data": {
      "text/html": [
       "2.30600413520417"
      ],
      "text/latex": [
       "2.30600413520417"
      ],
      "text/markdown": [
       "2.30600413520417"
      ],
      "text/plain": [
       "[1] 2.306004"
      ]
     },
     "metadata": {},
     "output_type": "display_data"
    }
   ],
   "source": [
    "# T* ermitteln\n",
    "qt(p = 0.05/2, df = 8, lower.tail = FALSE)"
   ]
  },
  {
   "cell_type": "markdown",
   "metadata": {},
   "source": [
    "###### Ergebnis\n",
    "\n",
    "|T| = -0.2933\n",
    "\n",
    "T* = 2.30600413520417\n",
    "\n",
    "|T| < T* Nullhypothese annehmen, Alternativhypothese verwerfen"
   ]
  },
  {
   "cell_type": "markdown",
   "metadata": {},
   "source": [
    "## Test 2: mittlere Distanz zu Mexiko und mittlerer Transportwert"
   ]
  },
  {
   "cell_type": "code",
   "execution_count": 33,
   "metadata": {},
   "outputs": [
    {
     "data": {
      "text/html": [
       "14"
      ],
      "text/latex": [
       "14"
      ],
      "text/markdown": [
       "14"
      ],
      "text/plain": [
       "[1] 14"
      ]
     },
     "metadata": {},
     "output_type": "display_data"
    },
    {
     "data": {
      "text/html": [
       "14"
      ],
      "text/latex": [
       "14"
      ],
      "text/markdown": [
       "14"
      ],
      "text/plain": [
       "[1] 14"
      ]
     },
     "metadata": {},
     "output_type": "display_data"
    }
   ],
   "source": [
    "dis2 <- subset(avg_value, distance == 2)\n",
    "val2 <- subset(avg_value, value == 2)\n",
    "# Kontrolle: Vergleich der Größen der Stichprobe\n",
    "nrow(dis2)\n",
    "nrow(val2)"
   ]
  },
  {
   "cell_type": "code",
   "execution_count": 28,
   "metadata": {},
   "outputs": [
    {
     "data": {
      "text/html": [
       "4830900023.63095"
      ],
      "text/latex": [
       "4830900023.63095"
      ],
      "text/markdown": [
       "4830900023.63095"
      ],
      "text/plain": [
       "[1] 4830900024"
      ]
     },
     "metadata": {},
     "output_type": "display_data"
    },
    {
     "data": {
      "text/html": [
       "8477374811.11905"
      ],
      "text/latex": [
       "8477374811.11905"
      ],
      "text/markdown": [
       "8477374811.11905"
      ],
      "text/plain": [
       "[1] 8477374811"
      ]
     },
     "metadata": {},
     "output_type": "display_data"
    }
   ],
   "source": [
    "# Kontrolle: arithmetische Mittel der Stichproben\n",
    "mean(dis2[,1])\n",
    "mean(val2[,1])"
   ]
  },
  {
   "cell_type": "code",
   "execution_count": 40,
   "metadata": {},
   "outputs": [
    {
     "data": {
      "text/plain": [
       "\n",
       "\tTwo Sample t-test\n",
       "\n",
       "data:  dis2[, 1] and val2[, 1]\n",
       "t = -3.2433, df = 26, p-value = 0.003236\n",
       "alternative hypothesis: true difference in means is not equal to 0\n",
       "95 percent confidence interval:\n",
       " -5957553632 -1335395943\n",
       "sample estimates:\n",
       " mean of x  mean of y \n",
       "4830900024 8477374811 \n"
      ]
     },
     "metadata": {},
     "output_type": "display_data"
    }
   ],
   "source": [
    "# |T| ermitteln\n",
    "t.test(dis2[,1], val2[,1], var.equal = TRUE)"
   ]
  },
  {
   "cell_type": "code",
   "execution_count": 41,
   "metadata": {},
   "outputs": [
    {
     "data": {
      "text/html": [
       "2.05552943864287"
      ],
      "text/latex": [
       "2.05552943864287"
      ],
      "text/markdown": [
       "2.05552943864287"
      ],
      "text/plain": [
       "[1] 2.055529"
      ]
     },
     "metadata": {},
     "output_type": "display_data"
    }
   ],
   "source": [
    "# T* ermitteln\n",
    "qt(p = 0.05/2, df = 26, lower.tail = FALSE)"
   ]
  },
  {
   "cell_type": "markdown",
   "metadata": {},
   "source": [
    "#### Ergebnis\n",
    "\n",
    "|T| = -3.2433\n",
    "\n",
    "T* = 2.05552943864287\n",
    "\n",
    "|T| < T* Nullhypothese annehmen, Alternativhypothese verwerfen"
   ]
  },
  {
   "cell_type": "markdown",
   "metadata": {},
   "source": [
    "## Test 3: große Distanz zu Mexiko und niedriger Transportwert"
   ]
  },
  {
   "cell_type": "code",
   "execution_count": 34,
   "metadata": {},
   "outputs": [
    {
     "data": {
      "text/html": [
       "33"
      ],
      "text/latex": [
       "33"
      ],
      "text/markdown": [
       "33"
      ],
      "text/plain": [
       "[1] 33"
      ]
     },
     "metadata": {},
     "output_type": "display_data"
    },
    {
     "data": {
      "text/html": [
       "33"
      ],
      "text/latex": [
       "33"
      ],
      "text/markdown": [
       "33"
      ],
      "text/plain": [
       "[1] 33"
      ]
     },
     "metadata": {},
     "output_type": "display_data"
    }
   ],
   "source": [
    "dis3 <- subset(avg_value, distance == 3)\n",
    "val3 <- subset(avg_value, value == 3)\n",
    "# Kontrolle: Vergleich der Größe der Stichproben\n",
    "nrow(dis3)\n",
    "nrow(val3)"
   ]
  },
  {
   "cell_type": "code",
   "execution_count": 29,
   "metadata": {},
   "outputs": [
    {
     "data": {
      "text/html": [
       "5414329692.32323"
      ],
      "text/latex": [
       "5414329692.32323"
      ],
      "text/markdown": [
       "5414329692.32323"
      ],
      "text/plain": [
       "[1] 5414329692"
      ]
     },
     "metadata": {},
     "output_type": "display_data"
    },
    {
     "data": {
      "text/html": [
       "1759933988.83333"
      ],
      "text/latex": [
       "1759933988.83333"
      ],
      "text/markdown": [
       "1759933988.83333"
      ],
      "text/plain": [
       "[1] 1759933989"
      ]
     },
     "metadata": {},
     "output_type": "display_data"
    }
   ],
   "source": [
    "# Kontrolle: arithmetische Mittel der Stichproben\n",
    "mean(dis3[,1])\n",
    "mean(val3[,1])"
   ]
  },
  {
   "cell_type": "code",
   "execution_count": 38,
   "metadata": {},
   "outputs": [
    {
     "data": {
      "text/plain": [
       "\n",
       "\tTwo Sample t-test\n",
       "\n",
       "data:  dis3[, 1] and val3[, 1]\n",
       "t = 1.9244, df = 64, p-value = 0.05875\n",
       "alternative hypothesis: true difference in means is not equal to 0\n",
       "95 percent confidence interval:\n",
       " -139282537 7448073944\n",
       "sample estimates:\n",
       " mean of x  mean of y \n",
       "5414329692 1759933989 \n"
      ]
     },
     "metadata": {},
     "output_type": "display_data"
    }
   ],
   "source": [
    "# |T| ermitteln\n",
    "t.test(dis3[,1], val3[,1], var.equal = TRUE)"
   ]
  },
  {
   "cell_type": "code",
   "execution_count": 39,
   "metadata": {},
   "outputs": [
    {
     "data": {
      "text/html": [
       "1.66901302502409"
      ],
      "text/latex": [
       "1.66901302502409"
      ],
      "text/markdown": [
       "1.66901302502409"
      ],
      "text/plain": [
       "[1] 1.669013"
      ]
     },
     "metadata": {},
     "output_type": "display_data"
    }
   ],
   "source": [
    "# T* ermitteln\n",
    "qt(p = 0.05, df = 64, lower.tail = FALSE)"
   ]
  },
  {
   "cell_type": "markdown",
   "metadata": {},
   "source": [
    "###### Ergebnis\n",
    "\n",
    "|T| = 1.9244\n",
    "\n",
    "T* = 1.66901302502409\n",
    "\n",
    "|T| > T* Nullhypothese verwerfen, Alternativhypothese annehmen"
   ]
  },
  {
   "cell_type": "code",
   "execution_count": null,
   "metadata": {},
   "outputs": [],
   "source": []
  }
 ],
 "metadata": {
  "kernelspec": {
   "display_name": "R",
   "language": "R",
   "name": "ir"
  },
  "language_info": {
   "codemirror_mode": "r",
   "file_extension": ".r",
   "mimetype": "text/x-r-source",
   "name": "R",
   "pygments_lexer": "r",
   "version": "3.6.0"
  }
 },
 "nbformat": 4,
 "nbformat_minor": 2
}
