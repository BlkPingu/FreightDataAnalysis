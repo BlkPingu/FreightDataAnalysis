{
 "cells": [
  {
   "cell_type": "markdown",
   "metadata": {},
   "source": [
    "# Zusammenhang zwischen dem jährlichen Transportvolumen eines Staates und seiner Nähe zu Canada\n",
    "//Henriette Sand, 564285\n",
    "\n",
    "##### Nullhypothese: \n",
    "Die Höhe des jährlichen Transportwertes einzelner US-Staaten hängt nicht von der Nähe zu Canada ab.\n",
    "\n",
    "##### Alternativhypothese\n",
    "Die Höhe des jährlichen Transportwertes einzelner US-Staaten hängt von der Nähe zu Canada ab.\n",
    "\n",
    "###### H0: µdis != µval\n",
    "\n",
    "###### H1: µdis = µval "
   ]
  },
  {
   "cell_type": "code",
   "execution_count": 11,
   "metadata": {},
   "outputs": [],
   "source": [
    "# Daten laden\n",
    "df <- read.csv(\"trade_values_by_state_and_year_CA.csv\", header=TRUE, row.names=\"state\")"
   ]
  },
  {
   "cell_type": "markdown",
   "metadata": {},
   "source": [
    "## 1. Arithmetische Mittel berechnen"
   ]
  },
  {
   "cell_type": "code",
   "execution_count": 12,
   "metadata": {},
   "outputs": [
    {
     "data": {
      "text/html": [
       "<dl class=dl-horizontal>\n",
       "\t<dt>AL</dt>\n",
       "\t\t<dd>6506312517.16667</dd>\n",
       "\t<dt>AK</dt>\n",
       "\t\t<dd>1105035294.83333</dd>\n",
       "\t<dt>AS</dt>\n",
       "\t\t<dd>0</dd>\n",
       "\t<dt>AZ</dt>\n",
       "\t\t<dd>3643090298.66667</dd>\n",
       "\t<dt>AR</dt>\n",
       "\t\t<dd>2163545691.83333</dd>\n",
       "\t<dt>CA</dt>\n",
       "\t\t<dd>45080080510.8333</dd>\n",
       "\t<dt>CO</dt>\n",
       "\t\t<dd>5197819301.5</dd>\n",
       "\t<dt>CT</dt>\n",
       "\t\t<dd>5165429778.66667</dd>\n",
       "\t<dt>DE</dt>\n",
       "\t\t<dd>1755122974.5</dd>\n",
       "\t<dt>DC</dt>\n",
       "\t\t<dd>91573200.6666667</dd>\n",
       "\t<dt>FL</dt>\n",
       "\t\t<dd>8357434904.16667</dd>\n",
       "\t<dt>GA</dt>\n",
       "\t\t<dd>10602156969.5</dd>\n",
       "\t<dt>HI</dt>\n",
       "\t\t<dd>223868849.333333</dd>\n",
       "\t<dt>ID</dt>\n",
       "\t\t<dd>2115090511.83333</dd>\n",
       "\t<dt>IL</dt>\n",
       "\t\t<dd>53493291980.5</dd>\n",
       "\t<dt>IN</dt>\n",
       "\t\t<dd>19991220517.1667</dd>\n",
       "\t<dt>IA</dt>\n",
       "\t\t<dd>6972607776.66667</dd>\n",
       "\t<dt>KS</dt>\n",
       "\t\t<dd>3936486927.83333</dd>\n",
       "\t<dt>KY</dt>\n",
       "\t\t<dd>11397132464.6667</dd>\n",
       "\t<dt>LA</dt>\n",
       "\t\t<dd>5109687534</dd>\n",
       "\t<dt>ME</dt>\n",
       "\t\t<dd>3277928444.16667</dd>\n",
       "\t<dt>MD</dt>\n",
       "\t\t<dd>3661661797</dd>\n",
       "\t<dt>MA</dt>\n",
       "\t\t<dd>10907043912.3333</dd>\n",
       "\t<dt>MI</dt>\n",
       "\t\t<dd>72248762055.3333</dd>\n",
       "\t<dt>MN</dt>\n",
       "\t\t<dd>15240044504.1667</dd>\n",
       "\t<dt>MS</dt>\n",
       "\t\t<dd>3141272986.5</dd>\n",
       "\t<dt>MO</dt>\n",
       "\t\t<dd>8382654260.33333</dd>\n",
       "\t<dt>MT</dt>\n",
       "\t\t<dd>4738054204.83333</dd>\n",
       "\t<dt>NE</dt>\n",
       "\t\t<dd>2656313427.33333</dd>\n",
       "\t<dt>NV</dt>\n",
       "\t\t<dd>2079987654</dd>\n",
       "\t<dt>NH</dt>\n",
       "\t\t<dd>6587853303.5</dd>\n",
       "\t<dt>NJ</dt>\n",
       "\t\t<dd>15105049629.3333</dd>\n",
       "\t<dt>NM</dt>\n",
       "\t\t<dd>414979006</dd>\n",
       "\t<dt>NY</dt>\n",
       "\t\t<dd>31899062627.1667</dd>\n",
       "\t<dt>NC</dt>\n",
       "\t\t<dd>10087962981.1667</dd>\n",
       "\t<dt>ND</dt>\n",
       "\t\t<dd>5841526949.16667</dd>\n",
       "\t<dt>OH</dt>\n",
       "\t\t<dd>34005779126.5</dd>\n",
       "\t<dt>OK</dt>\n",
       "\t\t<dd>6080499704</dd>\n",
       "\t<dt>OR</dt>\n",
       "\t\t<dd>5517395840.33333</dd>\n",
       "\t<dt>PA</dt>\n",
       "\t\t<dd>22443659197.5</dd>\n",
       "\t<dt>RI</dt>\n",
       "\t\t<dd>975348860.833333</dd>\n",
       "\t<dt>SC</dt>\n",
       "\t\t<dd>6505626527.33333</dd>\n",
       "\t<dt>SD</dt>\n",
       "\t\t<dd>1032929295.66667</dd>\n",
       "\t<dt>TN</dt>\n",
       "\t\t<dd>13928704736</dd>\n",
       "\t<dt>TX</dt>\n",
       "\t\t<dd>42400839165.3333</dd>\n",
       "\t<dt>UT</dt>\n",
       "\t\t<dd>3301640267.5</dd>\n",
       "\t<dt>VT</dt>\n",
       "\t\t<dd>4289773161.83333</dd>\n",
       "\t<dt>VA</dt>\n",
       "\t\t<dd>5156016514.33333</dd>\n",
       "\t<dt>WA</dt>\n",
       "\t\t<dd>22387038612.1667</dd>\n",
       "\t<dt>WV</dt>\n",
       "\t\t<dd>2934327537.16667</dd>\n",
       "\t<dt>WI</dt>\n",
       "\t\t<dd>11560835529.6667</dd>\n",
       "\t<dt>WY</dt>\n",
       "\t\t<dd>1352663940</dd>\n",
       "</dl>\n"
      ],
      "text/latex": [
       "\\begin{description*}\n",
       "\\item[AL] 6506312517.16667\n",
       "\\item[AK] 1105035294.83333\n",
       "\\item[AS] 0\n",
       "\\item[AZ] 3643090298.66667\n",
       "\\item[AR] 2163545691.83333\n",
       "\\item[CA] 45080080510.8333\n",
       "\\item[CO] 5197819301.5\n",
       "\\item[CT] 5165429778.66667\n",
       "\\item[DE] 1755122974.5\n",
       "\\item[DC] 91573200.6666667\n",
       "\\item[FL] 8357434904.16667\n",
       "\\item[GA] 10602156969.5\n",
       "\\item[HI] 223868849.333333\n",
       "\\item[ID] 2115090511.83333\n",
       "\\item[IL] 53493291980.5\n",
       "\\item[IN] 19991220517.1667\n",
       "\\item[IA] 6972607776.66667\n",
       "\\item[KS] 3936486927.83333\n",
       "\\item[KY] 11397132464.6667\n",
       "\\item[LA] 5109687534\n",
       "\\item[ME] 3277928444.16667\n",
       "\\item[MD] 3661661797\n",
       "\\item[MA] 10907043912.3333\n",
       "\\item[MI] 72248762055.3333\n",
       "\\item[MN] 15240044504.1667\n",
       "\\item[MS] 3141272986.5\n",
       "\\item[MO] 8382654260.33333\n",
       "\\item[MT] 4738054204.83333\n",
       "\\item[NE] 2656313427.33333\n",
       "\\item[NV] 2079987654\n",
       "\\item[NH] 6587853303.5\n",
       "\\item[NJ] 15105049629.3333\n",
       "\\item[NM] 414979006\n",
       "\\item[NY] 31899062627.1667\n",
       "\\item[NC] 10087962981.1667\n",
       "\\item[ND] 5841526949.16667\n",
       "\\item[OH] 34005779126.5\n",
       "\\item[OK] 6080499704\n",
       "\\item[OR] 5517395840.33333\n",
       "\\item[PA] 22443659197.5\n",
       "\\item[RI] 975348860.833333\n",
       "\\item[SC] 6505626527.33333\n",
       "\\item[SD] 1032929295.66667\n",
       "\\item[TN] 13928704736\n",
       "\\item[TX] 42400839165.3333\n",
       "\\item[UT] 3301640267.5\n",
       "\\item[VT] 4289773161.83333\n",
       "\\item[VA] 5156016514.33333\n",
       "\\item[WA] 22387038612.1667\n",
       "\\item[WV] 2934327537.16667\n",
       "\\item[WI] 11560835529.6667\n",
       "\\item[WY] 1352663940\n",
       "\\end{description*}\n"
      ],
      "text/markdown": [
       "AL\n",
       ":   6506312517.16667AK\n",
       ":   1105035294.83333AS\n",
       ":   0AZ\n",
       ":   3643090298.66667AR\n",
       ":   2163545691.83333CA\n",
       ":   45080080510.8333CO\n",
       ":   5197819301.5CT\n",
       ":   5165429778.66667DE\n",
       ":   1755122974.5DC\n",
       ":   91573200.6666667FL\n",
       ":   8357434904.16667GA\n",
       ":   10602156969.5HI\n",
       ":   223868849.333333ID\n",
       ":   2115090511.83333IL\n",
       ":   53493291980.5IN\n",
       ":   19991220517.1667IA\n",
       ":   6972607776.66667KS\n",
       ":   3936486927.83333KY\n",
       ":   11397132464.6667LA\n",
       ":   5109687534ME\n",
       ":   3277928444.16667MD\n",
       ":   3661661797MA\n",
       ":   10907043912.3333MI\n",
       ":   72248762055.3333MN\n",
       ":   15240044504.1667MS\n",
       ":   3141272986.5MO\n",
       ":   8382654260.33333MT\n",
       ":   4738054204.83333NE\n",
       ":   2656313427.33333NV\n",
       ":   2079987654NH\n",
       ":   6587853303.5NJ\n",
       ":   15105049629.3333NM\n",
       ":   414979006NY\n",
       ":   31899062627.1667NC\n",
       ":   10087962981.1667ND\n",
       ":   5841526949.16667OH\n",
       ":   34005779126.5OK\n",
       ":   6080499704OR\n",
       ":   5517395840.33333PA\n",
       ":   22443659197.5RI\n",
       ":   975348860.833333SC\n",
       ":   6505626527.33333SD\n",
       ":   1032929295.66667TN\n",
       ":   13928704736TX\n",
       ":   42400839165.3333UT\n",
       ":   3301640267.5VT\n",
       ":   4289773161.83333VA\n",
       ":   5156016514.33333WA\n",
       ":   22387038612.1667WV\n",
       ":   2934327537.16667WI\n",
       ":   11560835529.6667WY\n",
       ":   1352663940\n",
       "\n"
      ],
      "text/plain": [
       "         AL          AK          AS          AZ          AR          CA \n",
       " 6506312517  1105035295           0  3643090299  2163545692 45080080511 \n",
       "         CO          CT          DE          DC          FL          GA \n",
       " 5197819302  5165429779  1755122975    91573201  8357434904 10602156970 \n",
       "         HI          ID          IL          IN          IA          KS \n",
       "  223868849  2115090512 53493291981 19991220517  6972607777  3936486928 \n",
       "         KY          LA          ME          MD          MA          MI \n",
       "11397132465  5109687534  3277928444  3661661797 10907043912 72248762055 \n",
       "         MN          MS          MO          MT          NE          NV \n",
       "15240044504  3141272987  8382654260  4738054205  2656313427  2079987654 \n",
       "         NH          NJ          NM          NY          NC          ND \n",
       " 6587853304 15105049629   414979006 31899062627 10087962981  5841526949 \n",
       "         OH          OK          OR          PA          RI          SC \n",
       "34005779127  6080499704  5517395840 22443659198   975348861  6505626527 \n",
       "         SD          TN          TX          UT          VT          VA \n",
       " 1032929296 13928704736 42400839165  3301640268  4289773162  5156016514 \n",
       "         WA          WV          WI          WY \n",
       "22387038612  2934327537 11560835530  1352663940 "
      ]
     },
     "metadata": {},
     "output_type": "display_data"
    }
   ],
   "source": [
    "# Werte für Test: Arithmetisches Mittel des jährlichen Transportwertes über den Beobachtungszeitraum 2013-2018\n",
    "avg_value <- apply(df, 1, mean)\n",
    "avg_value"
   ]
  },
  {
   "cell_type": "markdown",
   "metadata": {},
   "source": [
    "## 2. Nach Entfernung zur canadischen Grenze gruppieren\n",
    "\n",
    "1: keine/geringe Entfernung zu Canada\n",
    "\n",
    "2: mittlere Entfernung zu Canada\n",
    "\n",
    "3: große Entfernung zu Canada"
   ]
  },
  {
   "cell_type": "code",
   "execution_count": 13,
   "metadata": {},
   "outputs": [],
   "source": [
    "# manuell erhobene Gruppierung nach Staat in alphabetischer Reihenfolge\n",
    "distance <- c(3, 1, 3, 3, 3, 3, 2, 2, 2, 2, 3, 3, 3, 1, 1, 1, 2, 2, 2, 3, 1, 2, 2, 1, 1, 3, 2, 1, 2, 2, 1, 2, 3, 1, 2, 1, 1, 3, 2, 1, 2, 2, 2, 2, 3, 2, 1, 2, 1, 2, 1, 2)\n",
    "avg_value <- cbind(avg_value, distance)"
   ]
  },
  {
   "cell_type": "markdown",
   "metadata": {},
   "source": [
    "## 3. Nach Mittelwert des Transportwertes gruppieren"
   ]
  },
  {
   "cell_type": "markdown",
   "metadata": {},
   "source": [
    "1: hoher jährlicher Transportwert in US-Dollar\n",
    "\n",
    "2: mittlerer jährlicher Transportwert in US-Dollar\n",
    "\n",
    "3: niedriger jährlicher Transportwert in US-Dollar"
   ]
  },
  {
   "cell_type": "code",
   "execution_count": 14,
   "metadata": {},
   "outputs": [],
   "source": [
    "average <- avg_value[,1]"
   ]
  },
  {
   "cell_type": "code",
   "execution_count": 15,
   "metadata": {},
   "outputs": [
    {
     "data": {
      "text/html": [
       "5357607570.91667"
      ],
      "text/latex": [
       "5357607570.91667"
      ],
      "text/markdown": [
       "5357607570.91667"
      ],
      "text/plain": [
       "[1] 5357607571"
      ]
     },
     "metadata": {},
     "output_type": "display_data"
    }
   ],
   "source": [
    "median(average)"
   ]
  },
  {
   "cell_type": "code",
   "execution_count": 16,
   "metadata": {},
   "outputs": [
    {
     "data": {
      "text/html": [
       "<ol class=list-inline>\n",
       "\t<li>0</li>\n",
       "\t<li>72248762055.3333</li>\n",
       "</ol>\n"
      ],
      "text/latex": [
       "\\begin{enumerate*}\n",
       "\\item 0\n",
       "\\item 72248762055.3333\n",
       "\\end{enumerate*}\n"
      ],
      "text/markdown": [
       "1. 0\n",
       "2. 72248762055.3333\n",
       "\n",
       "\n"
      ],
      "text/plain": [
       "[1]           0 72248762055"
      ]
     },
     "metadata": {},
     "output_type": "display_data"
    }
   ],
   "source": [
    "range(average)"
   ]
  },
  {
   "cell_type": "code",
   "execution_count": 17,
   "metadata": {},
   "outputs": [
    {
     "data": {
      "text/html": [
       "<dl class=dl-horizontal>\n",
       "\t<dt>0%</dt>\n",
       "\t\t<dd>0</dd>\n",
       "\t<dt>25%</dt>\n",
       "\t\t<dd>2864824009.70833</dd>\n",
       "\t<dt>50%</dt>\n",
       "\t\t<dd>5357607570.91667</dd>\n",
       "\t<dt>75%</dt>\n",
       "\t\t<dd>11438058230.9167</dd>\n",
       "\t<dt>100%</dt>\n",
       "\t\t<dd>72248762055.3333</dd>\n",
       "</dl>\n"
      ],
      "text/latex": [
       "\\begin{description*}\n",
       "\\item[0\\textbackslash{}\\%] 0\n",
       "\\item[25\\textbackslash{}\\%] 2864824009.70833\n",
       "\\item[50\\textbackslash{}\\%] 5357607570.91667\n",
       "\\item[75\\textbackslash{}\\%] 11438058230.9167\n",
       "\\item[100\\textbackslash{}\\%] 72248762055.3333\n",
       "\\end{description*}\n"
      ],
      "text/markdown": [
       "0%\n",
       ":   025%\n",
       ":   2864824009.7083350%\n",
       ":   5357607570.9166775%\n",
       ":   11438058230.9167100%\n",
       ":   72248762055.3333\n",
       "\n"
      ],
      "text/plain": [
       "         0%         25%         50%         75%        100% \n",
       "          0  2864824010  5357607571 11438058231 72248762055 "
      ]
     },
     "metadata": {},
     "output_type": "display_data"
    }
   ],
   "source": [
    "quantile(average)"
   ]
  },
  {
   "cell_type": "code",
   "execution_count": 18,
   "metadata": {},
   "outputs": [
    {
     "data": {
      "text/html": [
       "<dl class=dl-horizontal>\n",
       "\t<dt>AS</dt>\n",
       "\t\t<dd>0</dd>\n",
       "\t<dt>DC</dt>\n",
       "\t\t<dd>91573200.6666667</dd>\n",
       "\t<dt>HI</dt>\n",
       "\t\t<dd>223868849.333333</dd>\n",
       "\t<dt>NM</dt>\n",
       "\t\t<dd>414979006</dd>\n",
       "\t<dt>RI</dt>\n",
       "\t\t<dd>975348860.833333</dd>\n",
       "\t<dt>SD</dt>\n",
       "\t\t<dd>1032929295.66667</dd>\n",
       "\t<dt>AK</dt>\n",
       "\t\t<dd>1105035294.83333</dd>\n",
       "\t<dt>WY</dt>\n",
       "\t\t<dd>1352663940</dd>\n",
       "\t<dt>DE</dt>\n",
       "\t\t<dd>1755122974.5</dd>\n",
       "\t<dt>NV</dt>\n",
       "\t\t<dd>2079987654</dd>\n",
       "\t<dt>ID</dt>\n",
       "\t\t<dd>2115090511.83333</dd>\n",
       "\t<dt>AR</dt>\n",
       "\t\t<dd>2163545691.83333</dd>\n",
       "\t<dt>NE</dt>\n",
       "\t\t<dd>2656313427.33333</dd>\n",
       "\t<dt>WV</dt>\n",
       "\t\t<dd>2934327537.16667</dd>\n",
       "\t<dt>MS</dt>\n",
       "\t\t<dd>3141272986.5</dd>\n",
       "\t<dt>ME</dt>\n",
       "\t\t<dd>3277928444.16667</dd>\n",
       "\t<dt>UT</dt>\n",
       "\t\t<dd>3301640267.5</dd>\n",
       "\t<dt>AZ</dt>\n",
       "\t\t<dd>3643090298.66667</dd>\n",
       "\t<dt>MD</dt>\n",
       "\t\t<dd>3661661797</dd>\n",
       "\t<dt>KS</dt>\n",
       "\t\t<dd>3936486927.83333</dd>\n",
       "\t<dt>VT</dt>\n",
       "\t\t<dd>4289773161.83333</dd>\n",
       "\t<dt>MT</dt>\n",
       "\t\t<dd>4738054204.83333</dd>\n",
       "\t<dt>LA</dt>\n",
       "\t\t<dd>5109687534</dd>\n",
       "\t<dt>VA</dt>\n",
       "\t\t<dd>5156016514.33333</dd>\n",
       "\t<dt>CT</dt>\n",
       "\t\t<dd>5165429778.66667</dd>\n",
       "\t<dt>CO</dt>\n",
       "\t\t<dd>5197819301.5</dd>\n",
       "\t<dt>OR</dt>\n",
       "\t\t<dd>5517395840.33333</dd>\n",
       "\t<dt>ND</dt>\n",
       "\t\t<dd>5841526949.16667</dd>\n",
       "\t<dt>OK</dt>\n",
       "\t\t<dd>6080499704</dd>\n",
       "\t<dt>SC</dt>\n",
       "\t\t<dd>6505626527.33333</dd>\n",
       "\t<dt>AL</dt>\n",
       "\t\t<dd>6506312517.16667</dd>\n",
       "\t<dt>NH</dt>\n",
       "\t\t<dd>6587853303.5</dd>\n",
       "\t<dt>IA</dt>\n",
       "\t\t<dd>6972607776.66667</dd>\n",
       "\t<dt>FL</dt>\n",
       "\t\t<dd>8357434904.16667</dd>\n",
       "\t<dt>MO</dt>\n",
       "\t\t<dd>8382654260.33333</dd>\n",
       "\t<dt>NC</dt>\n",
       "\t\t<dd>10087962981.1667</dd>\n",
       "\t<dt>GA</dt>\n",
       "\t\t<dd>10602156969.5</dd>\n",
       "\t<dt>MA</dt>\n",
       "\t\t<dd>10907043912.3333</dd>\n",
       "\t<dt>KY</dt>\n",
       "\t\t<dd>11397132464.6667</dd>\n",
       "\t<dt>WI</dt>\n",
       "\t\t<dd>11560835529.6667</dd>\n",
       "\t<dt>TN</dt>\n",
       "\t\t<dd>13928704736</dd>\n",
       "\t<dt>NJ</dt>\n",
       "\t\t<dd>15105049629.3333</dd>\n",
       "\t<dt>MN</dt>\n",
       "\t\t<dd>15240044504.1667</dd>\n",
       "\t<dt>IN</dt>\n",
       "\t\t<dd>19991220517.1667</dd>\n",
       "\t<dt>WA</dt>\n",
       "\t\t<dd>22387038612.1667</dd>\n",
       "\t<dt>PA</dt>\n",
       "\t\t<dd>22443659197.5</dd>\n",
       "\t<dt>NY</dt>\n",
       "\t\t<dd>31899062627.1667</dd>\n",
       "\t<dt>OH</dt>\n",
       "\t\t<dd>34005779126.5</dd>\n",
       "\t<dt>TX</dt>\n",
       "\t\t<dd>42400839165.3333</dd>\n",
       "\t<dt>CA</dt>\n",
       "\t\t<dd>45080080510.8333</dd>\n",
       "\t<dt>IL</dt>\n",
       "\t\t<dd>53493291980.5</dd>\n",
       "\t<dt>MI</dt>\n",
       "\t\t<dd>72248762055.3333</dd>\n",
       "</dl>\n"
      ],
      "text/latex": [
       "\\begin{description*}\n",
       "\\item[AS] 0\n",
       "\\item[DC] 91573200.6666667\n",
       "\\item[HI] 223868849.333333\n",
       "\\item[NM] 414979006\n",
       "\\item[RI] 975348860.833333\n",
       "\\item[SD] 1032929295.66667\n",
       "\\item[AK] 1105035294.83333\n",
       "\\item[WY] 1352663940\n",
       "\\item[DE] 1755122974.5\n",
       "\\item[NV] 2079987654\n",
       "\\item[ID] 2115090511.83333\n",
       "\\item[AR] 2163545691.83333\n",
       "\\item[NE] 2656313427.33333\n",
       "\\item[WV] 2934327537.16667\n",
       "\\item[MS] 3141272986.5\n",
       "\\item[ME] 3277928444.16667\n",
       "\\item[UT] 3301640267.5\n",
       "\\item[AZ] 3643090298.66667\n",
       "\\item[MD] 3661661797\n",
       "\\item[KS] 3936486927.83333\n",
       "\\item[VT] 4289773161.83333\n",
       "\\item[MT] 4738054204.83333\n",
       "\\item[LA] 5109687534\n",
       "\\item[VA] 5156016514.33333\n",
       "\\item[CT] 5165429778.66667\n",
       "\\item[CO] 5197819301.5\n",
       "\\item[OR] 5517395840.33333\n",
       "\\item[ND] 5841526949.16667\n",
       "\\item[OK] 6080499704\n",
       "\\item[SC] 6505626527.33333\n",
       "\\item[AL] 6506312517.16667\n",
       "\\item[NH] 6587853303.5\n",
       "\\item[IA] 6972607776.66667\n",
       "\\item[FL] 8357434904.16667\n",
       "\\item[MO] 8382654260.33333\n",
       "\\item[NC] 10087962981.1667\n",
       "\\item[GA] 10602156969.5\n",
       "\\item[MA] 10907043912.3333\n",
       "\\item[KY] 11397132464.6667\n",
       "\\item[WI] 11560835529.6667\n",
       "\\item[TN] 13928704736\n",
       "\\item[NJ] 15105049629.3333\n",
       "\\item[MN] 15240044504.1667\n",
       "\\item[IN] 19991220517.1667\n",
       "\\item[WA] 22387038612.1667\n",
       "\\item[PA] 22443659197.5\n",
       "\\item[NY] 31899062627.1667\n",
       "\\item[OH] 34005779126.5\n",
       "\\item[TX] 42400839165.3333\n",
       "\\item[CA] 45080080510.8333\n",
       "\\item[IL] 53493291980.5\n",
       "\\item[MI] 72248762055.3333\n",
       "\\end{description*}\n"
      ],
      "text/markdown": [
       "AS\n",
       ":   0DC\n",
       ":   91573200.6666667HI\n",
       ":   223868849.333333NM\n",
       ":   414979006RI\n",
       ":   975348860.833333SD\n",
       ":   1032929295.66667AK\n",
       ":   1105035294.83333WY\n",
       ":   1352663940DE\n",
       ":   1755122974.5NV\n",
       ":   2079987654ID\n",
       ":   2115090511.83333AR\n",
       ":   2163545691.83333NE\n",
       ":   2656313427.33333WV\n",
       ":   2934327537.16667MS\n",
       ":   3141272986.5ME\n",
       ":   3277928444.16667UT\n",
       ":   3301640267.5AZ\n",
       ":   3643090298.66667MD\n",
       ":   3661661797KS\n",
       ":   3936486927.83333VT\n",
       ":   4289773161.83333MT\n",
       ":   4738054204.83333LA\n",
       ":   5109687534VA\n",
       ":   5156016514.33333CT\n",
       ":   5165429778.66667CO\n",
       ":   5197819301.5OR\n",
       ":   5517395840.33333ND\n",
       ":   5841526949.16667OK\n",
       ":   6080499704SC\n",
       ":   6505626527.33333AL\n",
       ":   6506312517.16667NH\n",
       ":   6587853303.5IA\n",
       ":   6972607776.66667FL\n",
       ":   8357434904.16667MO\n",
       ":   8382654260.33333NC\n",
       ":   10087962981.1667GA\n",
       ":   10602156969.5MA\n",
       ":   10907043912.3333KY\n",
       ":   11397132464.6667WI\n",
       ":   11560835529.6667TN\n",
       ":   13928704736NJ\n",
       ":   15105049629.3333MN\n",
       ":   15240044504.1667IN\n",
       ":   19991220517.1667WA\n",
       ":   22387038612.1667PA\n",
       ":   22443659197.5NY\n",
       ":   31899062627.1667OH\n",
       ":   34005779126.5TX\n",
       ":   42400839165.3333CA\n",
       ":   45080080510.8333IL\n",
       ":   53493291980.5MI\n",
       ":   72248762055.3333\n",
       "\n"
      ],
      "text/plain": [
       "         AS          DC          HI          NM          RI          SD \n",
       "          0    91573201   223868849   414979006   975348861  1032929296 \n",
       "         AK          WY          DE          NV          ID          AR \n",
       " 1105035295  1352663940  1755122975  2079987654  2115090512  2163545692 \n",
       "         NE          WV          MS          ME          UT          AZ \n",
       " 2656313427  2934327537  3141272987  3277928444  3301640268  3643090299 \n",
       "         MD          KS          VT          MT          LA          VA \n",
       " 3661661797  3936486928  4289773162  4738054205  5109687534  5156016514 \n",
       "         CT          CO          OR          ND          OK          SC \n",
       " 5165429779  5197819302  5517395840  5841526949  6080499704  6505626527 \n",
       "         AL          NH          IA          FL          MO          NC \n",
       " 6506312517  6587853304  6972607777  8357434904  8382654260 10087962981 \n",
       "         GA          MA          KY          WI          TN          NJ \n",
       "10602156970 10907043912 11397132465 11560835530 13928704736 15105049629 \n",
       "         MN          IN          WA          PA          NY          OH \n",
       "15240044504 19991220517 22387038612 22443659198 31899062627 34005779127 \n",
       "         TX          CA          IL          MI \n",
       "42400839165 45080080511 53493291981 72248762055 "
      ]
     },
     "metadata": {},
     "output_type": "display_data"
    }
   ],
   "source": [
    "sort(avg_value[,1])"
   ]
  },
  {
   "cell_type": "code",
   "execution_count": 19,
   "metadata": {},
   "outputs": [
    {
     "data": {
      "text/html": [
       "<table>\n",
       "<thead><tr><th></th><th scope=col>avg_value</th><th scope=col>distance</th><th scope=col>value</th></tr></thead>\n",
       "<tbody>\n",
       "\t<tr><th scope=row>AL</th><td> 6506312517</td><td>3          </td><td>2          </td></tr>\n",
       "\t<tr><th scope=row>AK</th><td> 1105035295</td><td>1          </td><td>3          </td></tr>\n",
       "\t<tr><th scope=row>AS</th><td>          0</td><td>3          </td><td>3          </td></tr>\n",
       "\t<tr><th scope=row>AZ</th><td> 3643090299</td><td>3          </td><td>2          </td></tr>\n",
       "\t<tr><th scope=row>AR</th><td> 2163545692</td><td>3          </td><td>3          </td></tr>\n",
       "\t<tr><th scope=row>CA</th><td>45080080511</td><td>3          </td><td>1          </td></tr>\n",
       "\t<tr><th scope=row>CO</th><td> 5197819302</td><td>2          </td><td>2          </td></tr>\n",
       "\t<tr><th scope=row>CT</th><td> 5165429779</td><td>2          </td><td>2          </td></tr>\n",
       "\t<tr><th scope=row>DE</th><td> 1755122975</td><td>2          </td><td>3          </td></tr>\n",
       "\t<tr><th scope=row>DC</th><td>   91573201</td><td>2          </td><td>3          </td></tr>\n",
       "\t<tr><th scope=row>FL</th><td> 8357434904</td><td>3          </td><td>2          </td></tr>\n",
       "\t<tr><th scope=row>GA</th><td>10602156970</td><td>3          </td><td>1          </td></tr>\n",
       "\t<tr><th scope=row>HI</th><td>  223868849</td><td>3          </td><td>3          </td></tr>\n",
       "\t<tr><th scope=row>ID</th><td> 2115090512</td><td>1          </td><td>3          </td></tr>\n",
       "\t<tr><th scope=row>IL</th><td>53493291981</td><td>1          </td><td>1          </td></tr>\n",
       "\t<tr><th scope=row>IN</th><td>19991220517</td><td>1          </td><td>1          </td></tr>\n",
       "\t<tr><th scope=row>IA</th><td> 6972607777</td><td>2          </td><td>2          </td></tr>\n",
       "\t<tr><th scope=row>KS</th><td> 3936486928</td><td>2          </td><td>2          </td></tr>\n",
       "\t<tr><th scope=row>KY</th><td>11397132465</td><td>2          </td><td>1          </td></tr>\n",
       "\t<tr><th scope=row>LA</th><td> 5109687534</td><td>3          </td><td>2          </td></tr>\n",
       "\t<tr><th scope=row>ME</th><td> 3277928444</td><td>1          </td><td>2          </td></tr>\n",
       "\t<tr><th scope=row>MD</th><td> 3661661797</td><td>2          </td><td>2          </td></tr>\n",
       "\t<tr><th scope=row>MA</th><td>10907043912</td><td>2          </td><td>1          </td></tr>\n",
       "\t<tr><th scope=row>MI</th><td>72248762055</td><td>1          </td><td>1          </td></tr>\n",
       "\t<tr><th scope=row>MN</th><td>15240044504</td><td>1          </td><td>1          </td></tr>\n",
       "\t<tr><th scope=row>MS</th><td> 3141272987</td><td>3          </td><td>2          </td></tr>\n",
       "\t<tr><th scope=row>MO</th><td> 8382654260</td><td>2          </td><td>2          </td></tr>\n",
       "\t<tr><th scope=row>MT</th><td> 4738054205</td><td>1          </td><td>2          </td></tr>\n",
       "\t<tr><th scope=row>NE</th><td> 2656313427</td><td>2          </td><td>3          </td></tr>\n",
       "\t<tr><th scope=row>NV</th><td> 2079987654</td><td>2          </td><td>3          </td></tr>\n",
       "\t<tr><th scope=row>NH</th><td> 6587853304</td><td>1          </td><td>2          </td></tr>\n",
       "\t<tr><th scope=row>NJ</th><td>15105049629</td><td>2          </td><td>1          </td></tr>\n",
       "\t<tr><th scope=row>NM</th><td>  414979006</td><td>3          </td><td>3          </td></tr>\n",
       "\t<tr><th scope=row>NY</th><td>31899062627</td><td>1          </td><td>1          </td></tr>\n",
       "\t<tr><th scope=row>NC</th><td>10087962981</td><td>2          </td><td>2          </td></tr>\n",
       "\t<tr><th scope=row>ND</th><td> 5841526949</td><td>1          </td><td>2          </td></tr>\n",
       "\t<tr><th scope=row>OH</th><td>34005779127</td><td>1          </td><td>1          </td></tr>\n",
       "\t<tr><th scope=row>OK</th><td> 6080499704</td><td>3          </td><td>2          </td></tr>\n",
       "\t<tr><th scope=row>OR</th><td> 5517395840</td><td>2          </td><td>2          </td></tr>\n",
       "\t<tr><th scope=row>PA</th><td>22443659198</td><td>1          </td><td>1          </td></tr>\n",
       "\t<tr><th scope=row>RI</th><td>  975348861</td><td>2          </td><td>3          </td></tr>\n",
       "\t<tr><th scope=row>SC</th><td> 6505626527</td><td>2          </td><td>2          </td></tr>\n",
       "\t<tr><th scope=row>SD</th><td> 1032929296</td><td>2          </td><td>3          </td></tr>\n",
       "\t<tr><th scope=row>TN</th><td>13928704736</td><td>2          </td><td>1          </td></tr>\n",
       "\t<tr><th scope=row>TX</th><td>42400839165</td><td>3          </td><td>1          </td></tr>\n",
       "\t<tr><th scope=row>UT</th><td> 3301640268</td><td>2          </td><td>2          </td></tr>\n",
       "\t<tr><th scope=row>VT</th><td> 4289773162</td><td>1          </td><td>2          </td></tr>\n",
       "\t<tr><th scope=row>VA</th><td> 5156016514</td><td>2          </td><td>2          </td></tr>\n",
       "\t<tr><th scope=row>WA</th><td>22387038612</td><td>1          </td><td>1          </td></tr>\n",
       "\t<tr><th scope=row>WV</th><td> 2934327537</td><td>2          </td><td>2          </td></tr>\n",
       "\t<tr><th scope=row>WI</th><td>11560835530</td><td>1          </td><td>1          </td></tr>\n",
       "\t<tr><th scope=row>WY</th><td> 1352663940</td><td>2          </td><td>3          </td></tr>\n",
       "</tbody>\n",
       "</table>\n"
      ],
      "text/latex": [
       "\\begin{tabular}{r|lll}\n",
       "  & avg\\_value & distance & value\\\\\n",
       "\\hline\n",
       "\tAL &  6506312517 & 3           & 2          \\\\\n",
       "\tAK &  1105035295 & 1           & 3          \\\\\n",
       "\tAS &           0 & 3           & 3          \\\\\n",
       "\tAZ &  3643090299 & 3           & 2          \\\\\n",
       "\tAR &  2163545692 & 3           & 3          \\\\\n",
       "\tCA & 45080080511 & 3           & 1          \\\\\n",
       "\tCO &  5197819302 & 2           & 2          \\\\\n",
       "\tCT &  5165429779 & 2           & 2          \\\\\n",
       "\tDE &  1755122975 & 2           & 3          \\\\\n",
       "\tDC &    91573201 & 2           & 3          \\\\\n",
       "\tFL &  8357434904 & 3           & 2          \\\\\n",
       "\tGA & 10602156970 & 3           & 1          \\\\\n",
       "\tHI &   223868849 & 3           & 3          \\\\\n",
       "\tID &  2115090512 & 1           & 3          \\\\\n",
       "\tIL & 53493291981 & 1           & 1          \\\\\n",
       "\tIN & 19991220517 & 1           & 1          \\\\\n",
       "\tIA &  6972607777 & 2           & 2          \\\\\n",
       "\tKS &  3936486928 & 2           & 2          \\\\\n",
       "\tKY & 11397132465 & 2           & 1          \\\\\n",
       "\tLA &  5109687534 & 3           & 2          \\\\\n",
       "\tME &  3277928444 & 1           & 2          \\\\\n",
       "\tMD &  3661661797 & 2           & 2          \\\\\n",
       "\tMA & 10907043912 & 2           & 1          \\\\\n",
       "\tMI & 72248762055 & 1           & 1          \\\\\n",
       "\tMN & 15240044504 & 1           & 1          \\\\\n",
       "\tMS &  3141272987 & 3           & 2          \\\\\n",
       "\tMO &  8382654260 & 2           & 2          \\\\\n",
       "\tMT &  4738054205 & 1           & 2          \\\\\n",
       "\tNE &  2656313427 & 2           & 3          \\\\\n",
       "\tNV &  2079987654 & 2           & 3          \\\\\n",
       "\tNH &  6587853304 & 1           & 2          \\\\\n",
       "\tNJ & 15105049629 & 2           & 1          \\\\\n",
       "\tNM &   414979006 & 3           & 3          \\\\\n",
       "\tNY & 31899062627 & 1           & 1          \\\\\n",
       "\tNC & 10087962981 & 2           & 2          \\\\\n",
       "\tND &  5841526949 & 1           & 2          \\\\\n",
       "\tOH & 34005779127 & 1           & 1          \\\\\n",
       "\tOK &  6080499704 & 3           & 2          \\\\\n",
       "\tOR &  5517395840 & 2           & 2          \\\\\n",
       "\tPA & 22443659198 & 1           & 1          \\\\\n",
       "\tRI &   975348861 & 2           & 3          \\\\\n",
       "\tSC &  6505626527 & 2           & 2          \\\\\n",
       "\tSD &  1032929296 & 2           & 3          \\\\\n",
       "\tTN & 13928704736 & 2           & 1          \\\\\n",
       "\tTX & 42400839165 & 3           & 1          \\\\\n",
       "\tUT &  3301640268 & 2           & 2          \\\\\n",
       "\tVT &  4289773162 & 1           & 2          \\\\\n",
       "\tVA &  5156016514 & 2           & 2          \\\\\n",
       "\tWA & 22387038612 & 1           & 1          \\\\\n",
       "\tWV &  2934327537 & 2           & 2          \\\\\n",
       "\tWI & 11560835530 & 1           & 1          \\\\\n",
       "\tWY &  1352663940 & 2           & 3          \\\\\n",
       "\\end{tabular}\n"
      ],
      "text/markdown": [
       "\n",
       "| <!--/--> | avg_value | distance | value |\n",
       "|---|---|---|---|\n",
       "| AL |  6506312517 | 3           | 2           |\n",
       "| AK |  1105035295 | 1           | 3           |\n",
       "| AS |           0 | 3           | 3           |\n",
       "| AZ |  3643090299 | 3           | 2           |\n",
       "| AR |  2163545692 | 3           | 3           |\n",
       "| CA | 45080080511 | 3           | 1           |\n",
       "| CO |  5197819302 | 2           | 2           |\n",
       "| CT |  5165429779 | 2           | 2           |\n",
       "| DE |  1755122975 | 2           | 3           |\n",
       "| DC |    91573201 | 2           | 3           |\n",
       "| FL |  8357434904 | 3           | 2           |\n",
       "| GA | 10602156970 | 3           | 1           |\n",
       "| HI |   223868849 | 3           | 3           |\n",
       "| ID |  2115090512 | 1           | 3           |\n",
       "| IL | 53493291981 | 1           | 1           |\n",
       "| IN | 19991220517 | 1           | 1           |\n",
       "| IA |  6972607777 | 2           | 2           |\n",
       "| KS |  3936486928 | 2           | 2           |\n",
       "| KY | 11397132465 | 2           | 1           |\n",
       "| LA |  5109687534 | 3           | 2           |\n",
       "| ME |  3277928444 | 1           | 2           |\n",
       "| MD |  3661661797 | 2           | 2           |\n",
       "| MA | 10907043912 | 2           | 1           |\n",
       "| MI | 72248762055 | 1           | 1           |\n",
       "| MN | 15240044504 | 1           | 1           |\n",
       "| MS |  3141272987 | 3           | 2           |\n",
       "| MO |  8382654260 | 2           | 2           |\n",
       "| MT |  4738054205 | 1           | 2           |\n",
       "| NE |  2656313427 | 2           | 3           |\n",
       "| NV |  2079987654 | 2           | 3           |\n",
       "| NH |  6587853304 | 1           | 2           |\n",
       "| NJ | 15105049629 | 2           | 1           |\n",
       "| NM |   414979006 | 3           | 3           |\n",
       "| NY | 31899062627 | 1           | 1           |\n",
       "| NC | 10087962981 | 2           | 2           |\n",
       "| ND |  5841526949 | 1           | 2           |\n",
       "| OH | 34005779127 | 1           | 1           |\n",
       "| OK |  6080499704 | 3           | 2           |\n",
       "| OR |  5517395840 | 2           | 2           |\n",
       "| PA | 22443659198 | 1           | 1           |\n",
       "| RI |   975348861 | 2           | 3           |\n",
       "| SC |  6505626527 | 2           | 2           |\n",
       "| SD |  1032929296 | 2           | 3           |\n",
       "| TN | 13928704736 | 2           | 1           |\n",
       "| TX | 42400839165 | 3           | 1           |\n",
       "| UT |  3301640268 | 2           | 2           |\n",
       "| VT |  4289773162 | 1           | 2           |\n",
       "| VA |  5156016514 | 2           | 2           |\n",
       "| WA | 22387038612 | 1           | 1           |\n",
       "| WV |  2934327537 | 2           | 2           |\n",
       "| WI | 11560835530 | 1           | 1           |\n",
       "| WY |  1352663940 | 2           | 3           |\n",
       "\n"
      ],
      "text/plain": [
       "   avg_value   distance value\n",
       "AL  6506312517 3        2    \n",
       "AK  1105035295 1        3    \n",
       "AS           0 3        3    \n",
       "AZ  3643090299 3        2    \n",
       "AR  2163545692 3        3    \n",
       "CA 45080080511 3        1    \n",
       "CO  5197819302 2        2    \n",
       "CT  5165429779 2        2    \n",
       "DE  1755122975 2        3    \n",
       "DC    91573201 2        3    \n",
       "FL  8357434904 3        2    \n",
       "GA 10602156970 3        1    \n",
       "HI   223868849 3        3    \n",
       "ID  2115090512 1        3    \n",
       "IL 53493291981 1        1    \n",
       "IN 19991220517 1        1    \n",
       "IA  6972607777 2        2    \n",
       "KS  3936486928 2        2    \n",
       "KY 11397132465 2        1    \n",
       "LA  5109687534 3        2    \n",
       "ME  3277928444 1        2    \n",
       "MD  3661661797 2        2    \n",
       "MA 10907043912 2        1    \n",
       "MI 72248762055 1        1    \n",
       "MN 15240044504 1        1    \n",
       "MS  3141272987 3        2    \n",
       "MO  8382654260 2        2    \n",
       "MT  4738054205 1        2    \n",
       "NE  2656313427 2        3    \n",
       "NV  2079987654 2        3    \n",
       "NH  6587853304 1        2    \n",
       "NJ 15105049629 2        1    \n",
       "NM   414979006 3        3    \n",
       "NY 31899062627 1        1    \n",
       "NC 10087962981 2        2    \n",
       "ND  5841526949 1        2    \n",
       "OH 34005779127 1        1    \n",
       "OK  6080499704 3        2    \n",
       "OR  5517395840 2        2    \n",
       "PA 22443659198 1        1    \n",
       "RI   975348861 2        3    \n",
       "SC  6505626527 2        2    \n",
       "SD  1032929296 2        3    \n",
       "TN 13928704736 2        1    \n",
       "TX 42400839165 3        1    \n",
       "UT  3301640268 2        2    \n",
       "VT  4289773162 1        2    \n",
       "VA  5156016514 2        2    \n",
       "WA 22387038612 1        1    \n",
       "WV  2934327537 2        2    \n",
       "WI 11560835530 1        1    \n",
       "WY  1352663940 2        3    "
      ]
     },
     "metadata": {},
     "output_type": "display_data"
    }
   ],
   "source": [
    "# Gruppierung nach Staat in alphabetischer Reihenfolge\n",
    "value <- c(2, 3, 3, 2, 3, 1, 2, 2, 3, 3, 2, 1, 3, 3, 1, 1, 2, 2, 1, 2, 2, 2, 1, 1, 1, 2, 2, 2, 3, 3, 2, 1, 3, 1, 2, 2, 1, 2, 2, 1, 3, 2, 3, 1, 1, 2, 2, 2, 1, 2, 1, 3)\n",
    "avg_value <- cbind(avg_value, value)\n",
    "avg_value"
   ]
  },
  {
   "cell_type": "markdown",
   "metadata": {},
   "source": [
    "## Test 1: kleine Distanz zu Canada und hoher Transportwert"
   ]
  },
  {
   "cell_type": "code",
   "execution_count": 20,
   "metadata": {},
   "outputs": [
    {
     "data": {
      "text/html": [
       "16"
      ],
      "text/latex": [
       "16"
      ],
      "text/markdown": [
       "16"
      ],
      "text/plain": [
       "[1] 16"
      ]
     },
     "metadata": {},
     "output_type": "display_data"
    },
    {
     "data": {
      "text/html": [
       "16"
      ],
      "text/latex": [
       "16"
      ],
      "text/markdown": [
       "16"
      ],
      "text/plain": [
       "[1] 16"
      ]
     },
     "metadata": {},
     "output_type": "display_data"
    }
   ],
   "source": [
    "dis1 <- subset(avg_value, distance == 1)\n",
    "val1 <- subset(avg_value, value == 1)\n",
    "# Kontrolle: Vergleich der Größen der Stichprobe\n",
    "nrow(dis1)\n",
    "nrow(val1)"
   ]
  },
  {
   "cell_type": "code",
   "execution_count": 21,
   "metadata": {},
   "outputs": [
    {
     "data": {
      "text/html": [
       "19451559751.2708"
      ],
      "text/latex": [
       "19451559751.2708"
      ],
      "text/markdown": [
       "19451559751.2708"
      ],
      "text/plain": [
       "[1] 19451559751"
      ]
     },
     "metadata": {},
     "output_type": "display_data"
    },
    {
     "data": {
      "text/html": [
       "27043168846.1354"
      ],
      "text/latex": [
       "27043168846.1354"
      ],
      "text/markdown": [
       "27043168846.1354"
      ],
      "text/plain": [
       "[1] 27043168846"
      ]
     },
     "metadata": {},
     "output_type": "display_data"
    }
   ],
   "source": [
    "# Kontrolle: arithmetische Mittel der Stichproben\n",
    "mean(dis1[,1])\n",
    "mean(val1[,1])"
   ]
  },
  {
   "cell_type": "code",
   "execution_count": 52,
   "metadata": {},
   "outputs": [
    {
     "data": {
      "text/plain": [
       "\n",
       "\tTwo Sample t-test\n",
       "\n",
       "data:  dis1[, 1] and val1[, 1]\n",
       "t = -1.1191, df = 30, p-value = 0.272\n",
       "alternative hypothesis: true difference in means is not equal to 0\n",
       "95 percent confidence interval:\n",
       " -21445979461   6262761271\n",
       "sample estimates:\n",
       "  mean of x   mean of y \n",
       "19451559751 27043168846 \n"
      ]
     },
     "metadata": {},
     "output_type": "display_data"
    }
   ],
   "source": [
    "# |T| ermitteln\n",
    "t.test(dis1[,1], val1[,1], var.equal = TRUE)"
   ]
  },
  {
   "cell_type": "code",
   "execution_count": 54,
   "metadata": {},
   "outputs": [
    {
     "data": {
      "text/html": [
       "2.04227245630124"
      ],
      "text/latex": [
       "2.04227245630124"
      ],
      "text/markdown": [
       "2.04227245630124"
      ],
      "text/plain": [
       "[1] 2.042272"
      ]
     },
     "metadata": {},
     "output_type": "display_data"
    }
   ],
   "source": [
    "# T* ermitteln\n",
    "qt(p = 0.05/2, df = 30, lower.tail = FALSE)"
   ]
  },
  {
   "cell_type": "markdown",
   "metadata": {},
   "source": [
    "###### Ergebnis\n",
    "\n",
    "|T| = -1.1191\n",
    "\n",
    "T* = 2.04227245630124\n",
    "\n",
    "|T| < T* Nullhypothese annehmen, Alternativhypothese verwerfen"
   ]
  },
  {
   "cell_type": "markdown",
   "metadata": {},
   "source": [
    "## Test 2: mittlere Distanz zu Canada und mittlerer Transportwert"
   ]
  },
  {
   "cell_type": "code",
   "execution_count": 24,
   "metadata": {},
   "outputs": [
    {
     "data": {
      "text/html": [
       "23"
      ],
      "text/latex": [
       "23"
      ],
      "text/markdown": [
       "23"
      ],
      "text/plain": [
       "[1] 23"
      ]
     },
     "metadata": {},
     "output_type": "display_data"
    },
    {
     "data": {
      "text/html": [
       "23"
      ],
      "text/latex": [
       "23"
      ],
      "text/markdown": [
       "23"
      ],
      "text/plain": [
       "[1] 23"
      ]
     },
     "metadata": {},
     "output_type": "display_data"
    }
   ],
   "source": [
    "dis2 <- subset(avg_value, distance == 2)\n",
    "val2 <- subset(avg_value, value == 2)\n",
    "# Kontrolle: Vergleich der Größen der Stichproben\n",
    "nrow(dis2)\n",
    "nrow(val2)"
   ]
  },
  {
   "cell_type": "code",
   "execution_count": 25,
   "metadata": {},
   "outputs": [
    {
     "data": {
      "text/html": [
       "5569630417.61594"
      ],
      "text/latex": [
       "5569630417.61594"
      ],
      "text/markdown": [
       "5569630417.61594"
      ],
      "text/plain": [
       "[1] 5569630418"
      ]
     },
     "metadata": {},
     "output_type": "display_data"
    },
    {
     "data": {
      "text/html": [
       "5408394065.99275"
      ],
      "text/latex": [
       "5408394065.99275"
      ],
      "text/markdown": [
       "5408394065.99275"
      ],
      "text/plain": [
       "[1] 5408394066"
      ]
     },
     "metadata": {},
     "output_type": "display_data"
    }
   ],
   "source": [
    "# Kontrolle: arithmetische Mittel der Stichproben\n",
    "mean(dis2[,1])\n",
    "mean(val2[,1])"
   ]
  },
  {
   "cell_type": "code",
   "execution_count": 49,
   "metadata": {},
   "outputs": [
    {
     "data": {
      "text/plain": [
       "\n",
       "\tTwo Sample t-test\n",
       "\n",
       "data:  dis2[, 1] and val2[, 1]\n",
       "t = 0.16644, df = 44, p-value = 0.8686\n",
       "alternative hypothesis: true difference in means is not equal to 0\n",
       "95 percent confidence interval:\n",
       " -1791123654  2113596357\n",
       "sample estimates:\n",
       " mean of x  mean of y \n",
       "5569630418 5408394066 \n"
      ]
     },
     "metadata": {},
     "output_type": "display_data"
    }
   ],
   "source": [
    "# |T| ermitteln\n",
    "t.test(dis2[,1], val2[,1], var.equal = TRUE)"
   ]
  },
  {
   "cell_type": "code",
   "execution_count": 50,
   "metadata": {},
   "outputs": [
    {
     "data": {
      "text/html": [
       "2.01536757444376"
      ],
      "text/latex": [
       "2.01536757444376"
      ],
      "text/markdown": [
       "2.01536757444376"
      ],
      "text/plain": [
       "[1] 2.015368"
      ]
     },
     "metadata": {},
     "output_type": "display_data"
    }
   ],
   "source": [
    "# T* ermitteln\n",
    "qt(p = 0.05/2, df = 44, lower.tail = FALSE)"
   ]
  },
  {
   "cell_type": "markdown",
   "metadata": {},
   "source": [
    "###### Ergebnis\n",
    "\n",
    "|T| = 0,16644\n",
    "\n",
    "T* = 2.01536757444376\n",
    "\n",
    "|T| < T* Nullhypothese annehmen, Alternativhypothese verwerfen"
   ]
  },
  {
   "cell_type": "markdown",
   "metadata": {},
   "source": [
    "## Test 3: große Distanz zu Canada und niedriger Transportwert"
   ]
  },
  {
   "cell_type": "code",
   "execution_count": 28,
   "metadata": {},
   "outputs": [
    {
     "data": {
      "text/html": [
       "13"
      ],
      "text/latex": [
       "13"
      ],
      "text/markdown": [
       "13"
      ],
      "text/plain": [
       "[1] 13"
      ]
     },
     "metadata": {},
     "output_type": "display_data"
    },
    {
     "data": {
      "text/html": [
       "13"
      ],
      "text/latex": [
       "13"
      ],
      "text/markdown": [
       "13"
      ],
      "text/plain": [
       "[1] 13"
      ]
     },
     "metadata": {},
     "output_type": "display_data"
    }
   ],
   "source": [
    "dis3 <- subset(avg_value, distance == 3)\n",
    "val3 <- subset(avg_value, value == 3)\n",
    "# Kontrolle: Vergleich der Größen der Stichproben\n",
    "nrow(dis3)\n",
    "nrow(val3)"
   ]
  },
  {
   "cell_type": "code",
   "execution_count": 44,
   "metadata": {},
   "outputs": [
    {
     "data": {
      "text/html": [
       "10286443702.8718"
      ],
      "text/latex": [
       "10286443702.8718"
      ],
      "text/markdown": [
       "10286443702.8718"
      ],
      "text/plain": [
       "[1] 10286443703"
      ]
     },
     "metadata": {},
     "output_type": "display_data"
    },
    {
     "data": {
      "text/html": [
       "1228189131.29487"
      ],
      "text/latex": [
       "1228189131.29487"
      ],
      "text/markdown": [
       "1228189131.29487"
      ],
      "text/plain": [
       "[1] 1228189131"
      ]
     },
     "metadata": {},
     "output_type": "display_data"
    }
   ],
   "source": [
    "# Kontrolle: arithmetische Mittel der Stichproben\n",
    "mean(dis3[,1])\n",
    "mean(val3[,1])"
   ]
  },
  {
   "cell_type": "code",
   "execution_count": 55,
   "metadata": {},
   "outputs": [
    {
     "data": {
      "text/plain": [
       "\n",
       "\tTwo Sample t-test\n",
       "\n",
       "data:  dis3[, 1] and val3[, 1]\n",
       "t = 2.146, df = 24, p-value = 0.0422\n",
       "alternative hypothesis: true difference in means is not equal to 0\n",
       "95 percent confidence interval:\n",
       "   346394907 17770114236\n",
       "sample estimates:\n",
       "  mean of x   mean of y \n",
       "10286443703  1228189131 \n"
      ]
     },
     "metadata": {},
     "output_type": "display_data"
    }
   ],
   "source": [
    "# |T| ermitteln\n",
    "t.test(dis3[,1], val3[,1], var.equal = TRUE)"
   ]
  },
  {
   "cell_type": "code",
   "execution_count": 56,
   "metadata": {},
   "outputs": [
    {
     "data": {
      "text/html": [
       "1.71088207990943"
      ],
      "text/latex": [
       "1.71088207990943"
      ],
      "text/markdown": [
       "1.71088207990943"
      ],
      "text/plain": [
       "[1] 1.710882"
      ]
     },
     "metadata": {},
     "output_type": "display_data"
    }
   ],
   "source": [
    "# T* ermitteln\n",
    "qt(p = 0.05, df = 24, lower.tail = FALSE)"
   ]
  },
  {
   "cell_type": "markdown",
   "metadata": {},
   "source": [
    "## Ergebnis\n",
    "\n",
    "|T| = 2.146\n",
    "\n",
    "T* = 1.71088207990943\n",
    "\n",
    "|T| > T* Nullhypothese verwerfen, Alternativhypothese annehmen"
   ]
  },
  {
   "cell_type": "code",
   "execution_count": null,
   "metadata": {},
   "outputs": [],
   "source": []
  }
 ],
 "metadata": {
  "kernelspec": {
   "display_name": "R",
   "language": "R",
   "name": "ir"
  },
  "language_info": {
   "codemirror_mode": "r",
   "file_extension": ".r",
   "mimetype": "text/x-r-source",
   "name": "R",
   "pygments_lexer": "r",
   "version": "3.6.0"
  }
 },
 "nbformat": 4,
 "nbformat_minor": 2
}
