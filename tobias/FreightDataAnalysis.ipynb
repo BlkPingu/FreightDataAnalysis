{
 "cells": [
  {
   "cell_type": "code",
   "execution_count": 17,
   "metadata": {},
   "outputs": [],
   "source": [
    "# External Modules\n",
    "import pandas as pd\n",
    "import matplotlib.pyplot as plt\n",
    "import numpy as np\n",
    "from sklearn.linear_model import LinearRegression\n",
    "from matplotlib import cm"
   ]
  },
  {
   "cell_type": "code",
   "execution_count": 28,
   "metadata": {},
   "outputs": [
    {
     "data": {
      "text/html": [
       "<div>\n",
       "<style scoped>\n",
       "    .dataframe tbody tr th:only-of-type {\n",
       "        vertical-align: middle;\n",
       "    }\n",
       "\n",
       "    .dataframe tbody tr th {\n",
       "        vertical-align: top;\n",
       "    }\n",
       "\n",
       "    .dataframe thead th {\n",
       "        text-align: right;\n",
       "    }\n",
       "</style>\n",
       "<table border=\"1\" class=\"dataframe\">\n",
       "  <thead>\n",
       "    <tr style=\"text-align: right;\">\n",
       "      <th></th>\n",
       "      <th>TRDTYPE</th>\n",
       "      <th>USASTATE</th>\n",
       "      <th>COMMODITY2</th>\n",
       "      <th>DISAGMOT</th>\n",
       "      <th>MEXSTATE</th>\n",
       "      <th>CANPROV</th>\n",
       "      <th>COUNTRY</th>\n",
       "      <th>VALUE</th>\n",
       "      <th>SHIPWT</th>\n",
       "      <th>FREIGHT_CHARGES</th>\n",
       "      <th>DF</th>\n",
       "      <th>CONTCODE</th>\n",
       "      <th>MONTH</th>\n",
       "      <th>YEAR</th>\n",
       "    </tr>\n",
       "  </thead>\n",
       "  <tbody>\n",
       "    <tr>\n",
       "      <th>0</th>\n",
       "      <td>1</td>\n",
       "      <td>AK</td>\n",
       "      <td>2</td>\n",
       "      <td>5</td>\n",
       "      <td>DF</td>\n",
       "      <td>NaN</td>\n",
       "      <td>2010</td>\n",
       "      <td>50000</td>\n",
       "      <td>0</td>\n",
       "      <td>0</td>\n",
       "      <td>1.0</td>\n",
       "      <td>0</td>\n",
       "      <td>1</td>\n",
       "      <td>2018</td>\n",
       "    </tr>\n",
       "    <tr>\n",
       "      <th>1</th>\n",
       "      <td>1</td>\n",
       "      <td>AK</td>\n",
       "      <td>2</td>\n",
       "      <td>5</td>\n",
       "      <td>MX</td>\n",
       "      <td>NaN</td>\n",
       "      <td>2010</td>\n",
       "      <td>54000</td>\n",
       "      <td>0</td>\n",
       "      <td>0</td>\n",
       "      <td>1.0</td>\n",
       "      <td>0</td>\n",
       "      <td>1</td>\n",
       "      <td>2018</td>\n",
       "    </tr>\n",
       "    <tr>\n",
       "      <th>2</th>\n",
       "      <td>1</td>\n",
       "      <td>AK</td>\n",
       "      <td>3</td>\n",
       "      <td>3</td>\n",
       "      <td>NaN</td>\n",
       "      <td>XC</td>\n",
       "      <td>1220</td>\n",
       "      <td>19389</td>\n",
       "      <td>1593</td>\n",
       "      <td>908</td>\n",
       "      <td>1.0</td>\n",
       "      <td>X</td>\n",
       "      <td>1</td>\n",
       "      <td>2018</td>\n",
       "    </tr>\n",
       "    <tr>\n",
       "      <th>3</th>\n",
       "      <td>1</td>\n",
       "      <td>AK</td>\n",
       "      <td>3</td>\n",
       "      <td>5</td>\n",
       "      <td>NaN</td>\n",
       "      <td>XC</td>\n",
       "      <td>1220</td>\n",
       "      <td>2196240</td>\n",
       "      <td>0</td>\n",
       "      <td>35179</td>\n",
       "      <td>1.0</td>\n",
       "      <td>X</td>\n",
       "      <td>1</td>\n",
       "      <td>2018</td>\n",
       "    </tr>\n",
       "    <tr>\n",
       "      <th>4</th>\n",
       "      <td>1</td>\n",
       "      <td>AK</td>\n",
       "      <td>3</td>\n",
       "      <td>5</td>\n",
       "      <td>NaN</td>\n",
       "      <td>XY</td>\n",
       "      <td>1220</td>\n",
       "      <td>138461</td>\n",
       "      <td>0</td>\n",
       "      <td>2442</td>\n",
       "      <td>1.0</td>\n",
       "      <td>X</td>\n",
       "      <td>1</td>\n",
       "      <td>2018</td>\n",
       "    </tr>\n",
       "  </tbody>\n",
       "</table>\n",
       "</div>"
      ],
      "text/plain": [
       "   TRDTYPE USASTATE  COMMODITY2  DISAGMOT MEXSTATE CANPROV  COUNTRY    VALUE  \\\n",
       "0        1       AK           2         5       DF     NaN     2010    50000   \n",
       "1        1       AK           2         5       MX     NaN     2010    54000   \n",
       "2        1       AK           3         3      NaN      XC     1220    19389   \n",
       "3        1       AK           3         5      NaN      XC     1220  2196240   \n",
       "4        1       AK           3         5      NaN      XY     1220   138461   \n",
       "\n",
       "   SHIPWT  FREIGHT_CHARGES   DF CONTCODE  MONTH  YEAR  \n",
       "0       0                0  1.0        0      1  2018  \n",
       "1       0                0  1.0        0      1  2018  \n",
       "2    1593              908  1.0        X      1  2018  \n",
       "3       0            35179  1.0        X      1  2018  \n",
       "4       0             2442  1.0        X      1  2018  "
      ]
     },
     "execution_count": 28,
     "metadata": {},
     "output_type": "execute_result"
    }
   ],
   "source": [
    "year2018 = \"2018/dot2_ytd_1218.csv\"\n",
    "source = \"/Users/Tobias/Documents/Studium/10SoSe_19_AI/Grundlagen_Sozialer_Netze_Schmidt/FrightDataAnalysis/Data/\"\n",
    "\n",
    "def getColumn(filename, column):\n",
    "    return pd.read_csv(r\"\"+ source + \"\" + filename + \"\",usecols=[column])\n",
    "\n",
    "df = pd.read_csv(source+year2018)\n",
    "\n",
    "df.head()"
   ]
  },
  {
   "cell_type": "code",
   "execution_count": 26,
   "metadata": {},
   "outputs": [
    {
     "data": {
      "text/plain": [
       "1228738198334"
      ]
     },
     "execution_count": 26,
     "metadata": {},
     "output_type": "execute_result"
    }
   ],
   "source": [
    "\n",
    "\n",
    "\n",
    "\n",
    "\n",
    "value = getColumn(year2018,7).values\n",
    "month = getColumn(year2018,12).values\n",
    "\n",
    "value.sum()\n"
   ]
  },
  {
   "cell_type": "code",
   "execution_count": 20,
   "metadata": {},
   "outputs": [
    {
     "data": {
      "image/png": "[encoded data removed]",
      "text/plain": [
       "<Figure size 1440x864 with 1 Axes>"
      ]
     },
     "metadata": {
      "needs_background": "light"
     },
     "output_type": "display_data"
    }
   ],
   "source": [
    "plt.figure(\"Value/Month 2018\", figsize=(20,12))\n",
    "plt.xlabel(\"Month\")\n",
    "plt.ylabel(\"Value\")\n",
    "plt.scatter(month,value,s=0.1)\n",
    "plt.show()"
   ]
  },
  {
   "cell_type": "code",
   "execution_count": null,
   "metadata": {},
   "outputs": [],
   "source": []
  }
 ],
 "metadata": {
  "kernelspec": {
   "display_name": "Python 3",
   "language": "python",
   "name": "python3"
  },
  "language_info": {
   "codemirror_mode": {
    "name": "ipython",
    "version": 3
   },
   "file_extension": ".py",
   "mimetype": "text/x-python",
   "name": "python",
   "nbconvert_exporter": "python",
   "pygments_lexer": "ipython3",
   "version": "3.7.0"
  }
 },
 "nbformat": 4,
 "nbformat_minor": 2
}
